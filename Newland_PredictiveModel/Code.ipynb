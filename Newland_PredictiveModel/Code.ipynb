{
 "cells": [
  {
   "cell_type": "code",
   "execution_count": 1,
   "metadata": {},
   "outputs": [],
   "source": [
    "import pandas as pd\n",
    "\n",
    "import warnings\n",
    "warnings.filterwarnings('ignore')"
   ]
  },
  {
   "cell_type": "markdown",
   "metadata": {},
   "source": [
    "## Reading the data"
   ]
  },
  {
   "cell_type": "code",
   "execution_count": 2,
   "metadata": {},
   "outputs": [],
   "source": [
    "train = pd.read_excel('Train.xlsx')\n",
    "test = pd.read_excel('Test.xlsx')"
   ]
  },
  {
   "cell_type": "code",
   "execution_count": 3,
   "metadata": {},
   "outputs": [],
   "source": [
    "X = train.drop(columns = ['Income'])\n",
    "y = train[['Income']]"
   ]
  },
  {
   "cell_type": "markdown",
   "metadata": {},
   "source": [
    "#  Unbalancing learning"
   ]
  },
  {
   "cell_type": "code",
   "execution_count": 4,
   "metadata": {
    "scrolled": false
   },
   "outputs": [
    {
     "data": {
      "text/plain": [
       "Income\n",
       "0         17089\n",
       "1          5311\n",
       "dtype: int64"
      ]
     },
     "execution_count": 4,
     "metadata": {},
     "output_type": "execute_result"
    }
   ],
   "source": [
    "#\n",
    "train[['Income']].value_counts()"
   ]
  },
  {
   "cell_type": "markdown",
   "metadata": {},
   "source": [
    "## Split the data"
   ]
  },
  {
   "cell_type": "code",
   "execution_count": 5,
   "metadata": {},
   "outputs": [],
   "source": [
    "from sklearn.model_selection import train_test_split\n",
    "X_train, X_test, y_train, y_test = train_test_split(X, y, test_size = 0.2, random_state=15\n",
    "                                                    , stratify=y)"
   ]
  },
  {
   "cell_type": "code",
   "execution_count": 6,
   "metadata": {
    "scrolled": true
   },
   "outputs": [],
   "source": [
    "# # to run for test\n",
    "# X_test = test"
   ]
  },
  {
   "cell_type": "markdown",
   "metadata": {},
   "source": [
    "## Missing Values"
   ]
  },
  {
   "cell_type": "code",
   "execution_count": 7,
   "metadata": {
    "scrolled": true
   },
   "outputs": [
    {
     "data": {
      "text/plain": [
       "CITIZEN_ID                0\n",
       "Name                      0\n",
       "Birthday                  0\n",
       "Native Continent          0\n",
       "Marital Status            0\n",
       "Lives with                0\n",
       "Base Area                 0\n",
       "Education Level           0\n",
       "Years of Education        0\n",
       "Employment Sector         0\n",
       "Role                      0\n",
       "Working Hours per week    0\n",
       "Money Received            0\n",
       "Ticket Price              0\n",
       "dtype: int64"
      ]
     },
     "execution_count": 7,
     "metadata": {},
     "output_type": "execute_result"
    }
   ],
   "source": [
    "import numpy as np\n",
    "X_train.replace(\"?\", np.nan, inplace=True)\n",
    "\n",
    "X_train['Employment Sector'].fillna(X_train['Employment Sector'].mode().loc[0], inplace=True)\n",
    "X_train['Role'].fillna(X_train['Role'].mode().loc[0], inplace=True)\n",
    "X_train['Base Area'].fillna(X_train['Base Area'].mode().loc[0], inplace=True)\n",
    "\n",
    "X_train.isna().sum()"
   ]
  },
  {
   "cell_type": "code",
   "execution_count": 8,
   "metadata": {
    "scrolled": false
   },
   "outputs": [
    {
     "data": {
      "text/plain": [
       "CITIZEN_ID                0\n",
       "Name                      0\n",
       "Birthday                  0\n",
       "Native Continent          0\n",
       "Marital Status            0\n",
       "Lives with                0\n",
       "Base Area                 0\n",
       "Education Level           0\n",
       "Years of Education        0\n",
       "Employment Sector         0\n",
       "Role                      0\n",
       "Working Hours per week    0\n",
       "Money Received            0\n",
       "Ticket Price              0\n",
       "dtype: int64"
      ]
     },
     "execution_count": 8,
     "metadata": {},
     "output_type": "execute_result"
    }
   ],
   "source": [
    "X_test.replace(\"?\", np.nan, inplace=True)\n",
    "\n",
    "X_test['Employment Sector'].fillna(X_test['Employment Sector'].mode().loc[0], inplace=True)\n",
    "X_test['Role'].fillna(X_test['Role'].mode().loc[0], inplace=True)\n",
    "X_test['Base Area'].fillna(X_test['Base Area'].mode().loc[0], inplace=True)\n",
    "\n",
    "X_test.isna().sum()"
   ]
  },
  {
   "cell_type": "markdown",
   "metadata": {},
   "source": [
    "#  Outlier removal "
   ]
  },
  {
   "cell_type": "markdown",
   "metadata": {},
   "source": [
    "### Visualization "
   ]
  },
  {
   "cell_type": "code",
   "execution_count": 9,
   "metadata": {
    "scrolled": true
   },
   "outputs": [],
   "source": [
    "#fig = px.box(Xy, y=Xy['Years of Education'], color_discrete_sequence=['dimgrey'], template='plotly_white')\n",
    "#fig.show()"
   ]
  },
  {
   "cell_type": "code",
   "execution_count": 10,
   "metadata": {},
   "outputs": [],
   "source": [
    "#hist2 = px.histogram(Xy, x=Xy['Years of Education'], color_discrete_sequence=['darkseagreen'], template='plotly_white')\n",
    "#hist2.show()"
   ]
  },
  {
   "cell_type": "code",
   "execution_count": 11,
   "metadata": {
    "scrolled": true
   },
   "outputs": [],
   "source": [
    "#fig = px.box(Xy, y=Xy['Working Hours per week'], color_discrete_sequence=['dimgrey'], template='plotly_white')\n",
    "#fig.show()"
   ]
  },
  {
   "cell_type": "code",
   "execution_count": 12,
   "metadata": {
    "scrolled": true
   },
   "outputs": [],
   "source": [
    "#hist2 = px.histogram(Xy, x=Xy['Working Hours per week'], color_discrete_sequence=['darkseagreen'], template='plotly_white')\n",
    "#hist2.show()"
   ]
  },
  {
   "cell_type": "code",
   "execution_count": 13,
   "metadata": {},
   "outputs": [],
   "source": [
    "#fig = px.box(df, y=df['Money Received'], color_discrete_sequence=['dimgrey'], template='plotly_white')\n",
    "#fig.show()"
   ]
  },
  {
   "cell_type": "code",
   "execution_count": 14,
   "metadata": {
    "scrolled": true
   },
   "outputs": [],
   "source": [
    "#fig = px.box(df, y=df['Ticket Price'], color_discrete_sequence=['dimgrey'], template='plotly_white')\n",
    "#fig.show()"
   ]
  },
  {
   "cell_type": "code",
   "execution_count": 15,
   "metadata": {},
   "outputs": [],
   "source": [
    "# filters1 = ((Xy['Working Hours per week'] <=81)           \n",
    "#             &(Xy['Money Received'] <=27000)\n",
    "#             &(Xy['Ticket Price']<=3700)\n",
    "#             &(Xy['Employment Sector']!= 'Unemployed'))\n",
    "\n",
    "# df_1 = Xy[filters1]"
   ]
  },
  {
   "cell_type": "code",
   "execution_count": 16,
   "metadata": {
    "scrolled": true
   },
   "outputs": [],
   "source": [
    "# print('Percentage of data kept after removing outliers:', np.round((df_1.shape[0] / Xy.shape[0]), 4))"
   ]
  },
  {
   "cell_type": "markdown",
   "metadata": {},
   "source": [
    "## LOF method"
   ]
  },
  {
   "cell_type": "code",
   "execution_count": 17,
   "metadata": {},
   "outputs": [],
   "source": [
    "from sklearn.neighbors import LocalOutlierFactor"
   ]
  },
  {
   "cell_type": "code",
   "execution_count": 18,
   "metadata": {},
   "outputs": [],
   "source": [
    "metric_features = [\"Years of Education\",\"Working Hours per week\",\"Money Received\",\"Ticket Price\"]"
   ]
  },
  {
   "cell_type": "code",
   "execution_count": 19,
   "metadata": {},
   "outputs": [],
   "source": [
    "Xy = pd.concat([X_train, y_train], axis=1)"
   ]
  },
  {
   "cell_type": "code",
   "execution_count": 20,
   "metadata": {},
   "outputs": [],
   "source": [
    "lof = LocalOutlierFactor(n_neighbors=10,contamination=0.03)\n",
    "result=lof.fit_predict(Xy[metric_features])"
   ]
  },
  {
   "cell_type": "code",
   "execution_count": 21,
   "metadata": {},
   "outputs": [],
   "source": [
    "outliers_index= np.where(result==-1)\n",
    "outliers_index=outliers_index[0]\n",
    "                              "
   ]
  },
  {
   "cell_type": "code",
   "execution_count": 22,
   "metadata": {},
   "outputs": [],
   "source": [
    "df_2 = Xy.drop(Xy.index[outliers_index],axis=0)"
   ]
  },
  {
   "cell_type": "code",
   "execution_count": 23,
   "metadata": {},
   "outputs": [
    {
     "name": "stdout",
     "output_type": "stream",
     "text": [
      "Percentage of data kept after removing outliers: 0.97\n"
     ]
    }
   ],
   "source": [
    "print('Percentage of data kept after removing outliers:'\n",
    "      , np.round(df_2.shape[0] /Xy.shape[0], 4))"
   ]
  },
  {
   "cell_type": "code",
   "execution_count": 24,
   "metadata": {},
   "outputs": [],
   "source": [
    "X_train = Xy.iloc[:,:-1]\n",
    "y_train = Xy.iloc[:,-1]"
   ]
  },
  {
   "cell_type": "markdown",
   "metadata": {},
   "source": [
    "## Correlations"
   ]
  },
  {
   "cell_type": "code",
   "execution_count": 25,
   "metadata": {},
   "outputs": [],
   "source": [
    "\n",
    "#checked the correlation between non-categorical variables using the pearson correlation, with the target "
   ]
  },
  {
   "cell_type": "code",
   "execution_count": 26,
   "metadata": {},
   "outputs": [],
   "source": [
    "# X_train = Xy.iloc[:,:-1]\n",
    "# y_train = Xy.iloc[:,-1]checked the correlation between non-categorical variables using the pearson correlation, with the target \n",
    "\n",
    "# #cor = df[['Years of Education', 'Working Hours per week', 'Money Received', 'Ticket Price','Income']].corr()\n",
    "\n",
    "\n",
    "# #cor_var\n",
    "\n",
    "# def cor_heatmap(cor):\n",
    "#     plt.figure(figsize=(6,5))\n",
    "#     sns.heatmap(data = cor, annot = True, cmap = 'YlGnBu', fmt = '.1')\n",
    "#     plt.show\n",
    "    \n",
    "# #cor_heatmap(cor)\n",
    "\n",
    "# wanted to see how the categorical variables related to the dependent variable\n",
    "\n",
    "# def bar_charts_categorical (df, feature, target):\n",
    "#     cont_tab = pd.crosstab(df[feature], df[target], margins = True)\n",
    "#     categories = cont_tab.index[:-1]\n",
    "    \n",
    "#     fig = plt.figure(figsize=(40,3))\n",
    "   \n",
    "#     plt.subplot(121)\n",
    "#     p1 = plt.bar(categories, cont_tab.iloc[:-1, 0].values, 0.55, color = 'gray')\n",
    "#     p2 = plt.bar(categories, cont_tab.iloc[:-1, 1].values, 0.55, bottom = cont_tab.iloc[:-1,0], color='teal')\n",
    "#     plt.legend((p2[0], p1[0]), ('$y_i=1$', '$y_i=0$'))\n",
    "#     plt.title('Frequency Bar Chart')\n",
    "#     plt.xlabel(feature)\n",
    "#     plt.ylabel('$Frequency$')\n",
    "   \n",
    "#     obs_pct = np.array([np.divide(cont_tab.iloc[:-1, 0].values, cont_tab.iloc[:-1, 2].values),\n",
    "#                       np.divide(cont_tab.iloc[:-1,1].values, cont_tab.iloc[:-1, 2].values)])\n",
    "    \n",
    "#     plt.subplot(122)\n",
    "#     p1 = plt.bar(categories, obs_pct[0], 0.55, color='gray')\n",
    "#     p2 = plt.bar(categories, obs_pct[1], 0.55, bottom=obs_pct[0], color='teal')\n",
    "#     plt.legend((p2[0], p1[0]), ('$y_i=1$', '$y_i=0$'))\n",
    "#     plt.title('Proportion Bar Chart')\n",
    "#     plt.xlabel(feature)\n",
    "#     plt.ylabel('$p$')\n",
    "   \n",
    "#     plt.show()\n",
    "\n",
    "#bar_charts_categorical(df, 'Native Continent', 'Income')\n",
    "\n",
    "#bar_charts_categorical(df, 'Marital Status', 'Income')\n",
    "\n",
    "#bar_charts_categorical(df, 'Lives with', 'Income')\n",
    "\n",
    "#bar_charts_categorical(df, 'Base Area', 'Income')\n",
    "\n",
    "#bar_charts_categorical(df, 'Education Level', 'Income')\n",
    "\n",
    "#bar_charts_categorical(df, 'Employment Sector', 'Income')\n",
    "\n",
    "#bar_charts_categorical(df, 'Role', 'Income')\n",
    "\n",
    "#g = sns.FacetGrid(df, col='Income')\n",
    "#g = g.map(sns.distplot, \"Ticket Price\")\n",
    "#sns.plt.show()"
   ]
  },
  {
   "cell_type": "markdown",
   "metadata": {},
   "source": [
    "# Check duplicates"
   ]
  },
  {
   "cell_type": "code",
   "execution_count": 27,
   "metadata": {},
   "outputs": [],
   "source": [
    "#print(df[df.duplicated()].shape[0], 'duplicated records in the dataset.')"
   ]
  },
  {
   "cell_type": "markdown",
   "metadata": {},
   "source": [
    "## Incoherence checking "
   ]
  },
  {
   "cell_type": "code",
   "execution_count": 28,
   "metadata": {
    "scrolled": true
   },
   "outputs": [],
   "source": [
    "#X_train.loc[(X_train['Age'] < X_train['Years of Education'])]\n",
    "#X_test.loc[(X_test['Age'] < X_test['Years of Education'])]"
   ]
  },
  {
   "cell_type": "code",
   "execution_count": 29,
   "metadata": {},
   "outputs": [],
   "source": [
    "#2. Cannot be single and live with husbans or wife    \n",
    "#X_train.loc[(X_train['Marital Status'] == 0) & (X_train['Lives with'].isin(['Wife','Husband']))]     \n",
    "#X_test.loc[(X_test['Marital Status'] == 0) & (X_test['Lives with'].isin(['Wife','Husband']))]"
   ]
  },
  {
   "cell_type": "code",
   "execution_count": 30,
   "metadata": {},
   "outputs": [],
   "source": [
    "#Role 'army' can only be public sector.                                     \n",
    "#X_train.loc[X_train['Role'].isin(['Army'])]   \n",
    "#X_test.loc[X_test['Role'].isin(['Army'])]"
   ]
  },
  {
   "cell_type": "code",
   "execution_count": 31,
   "metadata": {},
   "outputs": [],
   "source": [
    "#4. if money received is greather than 0 the ticket price has to be equal to 0. Belongs to group B.   \n",
    "#X_train.loc[(X_train['Money Received'] > 0) & (X_train['Ticket Price']!=0)]   \n",
    "#X_test.loc[(X_test['Money Received'] > 0) & (X_test['Ticket Price']!=0)]"
   ]
  },
  {
   "cell_type": "markdown",
   "metadata": {},
   "source": [
    "# Feature engineering"
   ]
  },
  {
   "cell_type": "code",
   "execution_count": 32,
   "metadata": {},
   "outputs": [],
   "source": [
    "# Gender from name\n",
    "X_train['Gender'] = X_train.Name.str.split(\" \",expand=True, n = 1)[0] \n",
    "X_train[\"Gender\"] = X_train[\"Gender\"].map({\"Mr.\":1, \"Mrs.\":0,\"Miss\":0})\n",
    "\n",
    "# Birthday to age\n",
    "X_train['Age'] = X_train.Birthday.str.split(',',expand=True,n=1)[1]\n",
    "X_train['Age'] = 2048 - X_train['Age'].astype('int64')\n",
    "X_train.drop(columns=['Birthday'], inplace=True)\n",
    "\n",
    "# Base Area drop\n",
    "X_train.drop(columns=['Base Area','Name','Education Level'], inplace=True)\n",
    "X_train.set_index('CITIZEN_ID', inplace = True)\n",
    "\n",
    "\n",
    "X_train['money_dif']=X_train['Money Received']- X_train['Ticket Price']\n",
    "\n",
    "X_train.drop(columns=['Money Received', 'Ticket Price'], inplace=True)\n",
    "\n",
    "# #Aggregated self_employds\n",
    "X_train['Employment Sector'] = X_train['Employment Sector'].str.split(' - ',expand=True,n=1)[0]\n",
    "\n",
    "X_train[\"Employment Sector\"]= X_train[\"Employment Sector\"].map({'Private Sector': 'Private','Public Sector': 'Public',\n",
    "                                           \"Self-Employed (Individual)\":'Self-Employed',\n",
    "                                           \"Self-Employed (Company)\":'Self-Employed', \n",
    "                                           \"Never Worked\": 'Unemployed',\n",
    "                                           \"Unemployed\":'Unemployed'})\n",
    "\n"
   ]
  },
  {
   "cell_type": "code",
   "execution_count": 33,
   "metadata": {
    "scrolled": true
   },
   "outputs": [],
   "source": [
    "# Gender from name\n",
    "X_test['Gender'] = X_test.Name.str.split(\" \",expand=True, n = 1)[0] \n",
    "X_test[\"Gender\"] = X_test[\"Gender\"].map({\"Mr.\":1, \"Mrs.\":0,\"Miss\":0})\n",
    "\n",
    "# Birthday to age\n",
    "X_test['Age'] = X_test.Birthday.str.split(',',expand=True,n=1)[1]\n",
    "X_test['Age'] = 2048 - X_test['Age'].astype('int64')\n",
    "X_test.drop(columns=['Birthday'], inplace=True)\n",
    "\n",
    "# Base Area drop\n",
    "X_test.drop(columns=['Base Area', 'Name','Education Level'], inplace=True)\n",
    "X_test.set_index('CITIZEN_ID', inplace = True)\n",
    "\n",
    "\n",
    "X_test['money_dif']=X_test['Money Received']- X_test['Ticket Price']\n",
    "\n",
    "X_test.drop(columns=['Money Received', 'Ticket Price'], inplace=True)\n",
    "\n",
    "# #Aggregated self_employds \n",
    "X_test['Employment Sector'] = X_test['Employment Sector'].str.split(' - ',expand=True,n=1)[0]\n",
    "\n",
    "X_test[\"Employment Sector\"] = X_test[\"Employment Sector\"].map({'Private Sector': 'Private','Public Sector': 'Public',\n",
    "                                           \"Self-Employed (Individual)\":'Self-Employed',\n",
    "                                           \"Self-Employed (Company)\":'Self-Employed', \n",
    "                                           \"Never Worked\": 'Unemployed',\n",
    "                                           \"Unemployed\":'Unemployed'})\n",
    "\n",
    "\n"
   ]
  },
  {
   "cell_type": "code",
   "execution_count": 34,
   "metadata": {},
   "outputs": [
    {
     "data": {
      "text/plain": [
       "(4480, 10)"
      ]
     },
     "execution_count": 34,
     "metadata": {},
     "output_type": "execute_result"
    }
   ],
   "source": [
    "X_test.shape"
   ]
  },
  {
   "cell_type": "code",
   "execution_count": 35,
   "metadata": {},
   "outputs": [],
   "source": [
    "# #\n",
    "# X_train = train.drop(columns = ['Income'])\n",
    "# y_train = train[['Income']]"
   ]
  },
  {
   "cell_type": "markdown",
   "metadata": {},
   "source": [
    "# One hot encoding"
   ]
  },
  {
   "cell_type": "code",
   "execution_count": 36,
   "metadata": {},
   "outputs": [],
   "source": [
    "from sklearn.preprocessing import OneHotEncoder"
   ]
  },
  {
   "cell_type": "code",
   "execution_count": 37,
   "metadata": {},
   "outputs": [],
   "source": [
    "df_ohc = X_train.copy()"
   ]
  },
  {
   "cell_type": "code",
   "execution_count": 38,
   "metadata": {},
   "outputs": [
    {
     "data": {
      "text/plain": [
       "['Native Continent',\n",
       " 'Marital Status',\n",
       " 'Lives with',\n",
       " 'Employment Sector',\n",
       " 'Role']"
      ]
     },
     "execution_count": 38,
     "metadata": {},
     "output_type": "execute_result"
    }
   ],
   "source": [
    "features_to_encode = df_ohc.columns[df_ohc.dtypes==object].tolist()  \n",
    "features_to_encode"
   ]
  },
  {
   "cell_type": "code",
   "execution_count": 39,
   "metadata": {
    "scrolled": true
   },
   "outputs": [
    {
     "data": {
      "text/html": [
       "<div>\n",
       "<style scoped>\n",
       "    .dataframe tbody tr th:only-of-type {\n",
       "        vertical-align: middle;\n",
       "    }\n",
       "\n",
       "    .dataframe tbody tr th {\n",
       "        vertical-align: top;\n",
       "    }\n",
       "\n",
       "    .dataframe thead th {\n",
       "        text-align: right;\n",
       "    }\n",
       "</style>\n",
       "<table border=\"1\" class=\"dataframe\">\n",
       "  <thead>\n",
       "    <tr style=\"text-align: right;\">\n",
       "      <th></th>\n",
       "      <th>x0_Africa</th>\n",
       "      <th>x0_America</th>\n",
       "      <th>x0_Asia</th>\n",
       "      <th>x0_Europe</th>\n",
       "      <th>x0_Oceania</th>\n",
       "      <th>x1_Divorced</th>\n",
       "      <th>x1_Married</th>\n",
       "      <th>x1_Married - Spouse Missing</th>\n",
       "      <th>x1_Married - Spouse in the Army</th>\n",
       "      <th>x1_Separated</th>\n",
       "      <th>...</th>\n",
       "      <th>x4_Household Services</th>\n",
       "      <th>x4_IT</th>\n",
       "      <th>x4_Machine Operators &amp; Inspectors</th>\n",
       "      <th>x4_Management</th>\n",
       "      <th>x4_Other services</th>\n",
       "      <th>x4_Professor</th>\n",
       "      <th>x4_Repair &amp; constructions</th>\n",
       "      <th>x4_Sales</th>\n",
       "      <th>x4_Security</th>\n",
       "      <th>x4_Transports</th>\n",
       "    </tr>\n",
       "    <tr>\n",
       "      <th>CITIZEN_ID</th>\n",
       "      <th></th>\n",
       "      <th></th>\n",
       "      <th></th>\n",
       "      <th></th>\n",
       "      <th></th>\n",
       "      <th></th>\n",
       "      <th></th>\n",
       "      <th></th>\n",
       "      <th></th>\n",
       "      <th></th>\n",
       "      <th></th>\n",
       "      <th></th>\n",
       "      <th></th>\n",
       "      <th></th>\n",
       "      <th></th>\n",
       "      <th></th>\n",
       "      <th></th>\n",
       "      <th></th>\n",
       "      <th></th>\n",
       "      <th></th>\n",
       "      <th></th>\n",
       "    </tr>\n",
       "  </thead>\n",
       "  <tbody>\n",
       "    <tr>\n",
       "      <th>28969</th>\n",
       "      <td>0.0</td>\n",
       "      <td>0.0</td>\n",
       "      <td>0.0</td>\n",
       "      <td>1.0</td>\n",
       "      <td>0.0</td>\n",
       "      <td>0.0</td>\n",
       "      <td>0.0</td>\n",
       "      <td>0.0</td>\n",
       "      <td>0.0</td>\n",
       "      <td>0.0</td>\n",
       "      <td>...</td>\n",
       "      <td>0.0</td>\n",
       "      <td>0.0</td>\n",
       "      <td>1.0</td>\n",
       "      <td>0.0</td>\n",
       "      <td>0.0</td>\n",
       "      <td>0.0</td>\n",
       "      <td>0.0</td>\n",
       "      <td>0.0</td>\n",
       "      <td>0.0</td>\n",
       "      <td>0.0</td>\n",
       "    </tr>\n",
       "    <tr>\n",
       "      <th>24903</th>\n",
       "      <td>1.0</td>\n",
       "      <td>0.0</td>\n",
       "      <td>0.0</td>\n",
       "      <td>0.0</td>\n",
       "      <td>0.0</td>\n",
       "      <td>0.0</td>\n",
       "      <td>0.0</td>\n",
       "      <td>0.0</td>\n",
       "      <td>0.0</td>\n",
       "      <td>0.0</td>\n",
       "      <td>...</td>\n",
       "      <td>0.0</td>\n",
       "      <td>0.0</td>\n",
       "      <td>1.0</td>\n",
       "      <td>0.0</td>\n",
       "      <td>0.0</td>\n",
       "      <td>0.0</td>\n",
       "      <td>0.0</td>\n",
       "      <td>0.0</td>\n",
       "      <td>0.0</td>\n",
       "      <td>0.0</td>\n",
       "    </tr>\n",
       "    <tr>\n",
       "      <th>30519</th>\n",
       "      <td>0.0</td>\n",
       "      <td>0.0</td>\n",
       "      <td>0.0</td>\n",
       "      <td>0.0</td>\n",
       "      <td>1.0</td>\n",
       "      <td>0.0</td>\n",
       "      <td>1.0</td>\n",
       "      <td>0.0</td>\n",
       "      <td>0.0</td>\n",
       "      <td>0.0</td>\n",
       "      <td>...</td>\n",
       "      <td>0.0</td>\n",
       "      <td>0.0</td>\n",
       "      <td>0.0</td>\n",
       "      <td>0.0</td>\n",
       "      <td>0.0</td>\n",
       "      <td>0.0</td>\n",
       "      <td>1.0</td>\n",
       "      <td>0.0</td>\n",
       "      <td>0.0</td>\n",
       "      <td>0.0</td>\n",
       "    </tr>\n",
       "    <tr>\n",
       "      <th>31506</th>\n",
       "      <td>0.0</td>\n",
       "      <td>0.0</td>\n",
       "      <td>1.0</td>\n",
       "      <td>0.0</td>\n",
       "      <td>0.0</td>\n",
       "      <td>0.0</td>\n",
       "      <td>0.0</td>\n",
       "      <td>0.0</td>\n",
       "      <td>0.0</td>\n",
       "      <td>0.0</td>\n",
       "      <td>...</td>\n",
       "      <td>0.0</td>\n",
       "      <td>0.0</td>\n",
       "      <td>0.0</td>\n",
       "      <td>0.0</td>\n",
       "      <td>0.0</td>\n",
       "      <td>0.0</td>\n",
       "      <td>0.0</td>\n",
       "      <td>1.0</td>\n",
       "      <td>0.0</td>\n",
       "      <td>0.0</td>\n",
       "    </tr>\n",
       "    <tr>\n",
       "      <th>16478</th>\n",
       "      <td>0.0</td>\n",
       "      <td>0.0</td>\n",
       "      <td>0.0</td>\n",
       "      <td>1.0</td>\n",
       "      <td>0.0</td>\n",
       "      <td>0.0</td>\n",
       "      <td>1.0</td>\n",
       "      <td>0.0</td>\n",
       "      <td>0.0</td>\n",
       "      <td>0.0</td>\n",
       "      <td>...</td>\n",
       "      <td>0.0</td>\n",
       "      <td>0.0</td>\n",
       "      <td>0.0</td>\n",
       "      <td>0.0</td>\n",
       "      <td>0.0</td>\n",
       "      <td>0.0</td>\n",
       "      <td>1.0</td>\n",
       "      <td>0.0</td>\n",
       "      <td>0.0</td>\n",
       "      <td>0.0</td>\n",
       "    </tr>\n",
       "    <tr>\n",
       "      <th>...</th>\n",
       "      <td>...</td>\n",
       "      <td>...</td>\n",
       "      <td>...</td>\n",
       "      <td>...</td>\n",
       "      <td>...</td>\n",
       "      <td>...</td>\n",
       "      <td>...</td>\n",
       "      <td>...</td>\n",
       "      <td>...</td>\n",
       "      <td>...</td>\n",
       "      <td>...</td>\n",
       "      <td>...</td>\n",
       "      <td>...</td>\n",
       "      <td>...</td>\n",
       "      <td>...</td>\n",
       "      <td>...</td>\n",
       "      <td>...</td>\n",
       "      <td>...</td>\n",
       "      <td>...</td>\n",
       "      <td>...</td>\n",
       "      <td>...</td>\n",
       "    </tr>\n",
       "    <tr>\n",
       "      <th>16765</th>\n",
       "      <td>0.0</td>\n",
       "      <td>0.0</td>\n",
       "      <td>0.0</td>\n",
       "      <td>1.0</td>\n",
       "      <td>0.0</td>\n",
       "      <td>0.0</td>\n",
       "      <td>0.0</td>\n",
       "      <td>0.0</td>\n",
       "      <td>0.0</td>\n",
       "      <td>0.0</td>\n",
       "      <td>...</td>\n",
       "      <td>0.0</td>\n",
       "      <td>0.0</td>\n",
       "      <td>0.0</td>\n",
       "      <td>0.0</td>\n",
       "      <td>0.0</td>\n",
       "      <td>0.0</td>\n",
       "      <td>1.0</td>\n",
       "      <td>0.0</td>\n",
       "      <td>0.0</td>\n",
       "      <td>0.0</td>\n",
       "    </tr>\n",
       "    <tr>\n",
       "      <th>31476</th>\n",
       "      <td>0.0</td>\n",
       "      <td>0.0</td>\n",
       "      <td>0.0</td>\n",
       "      <td>1.0</td>\n",
       "      <td>0.0</td>\n",
       "      <td>0.0</td>\n",
       "      <td>0.0</td>\n",
       "      <td>0.0</td>\n",
       "      <td>0.0</td>\n",
       "      <td>0.0</td>\n",
       "      <td>...</td>\n",
       "      <td>0.0</td>\n",
       "      <td>0.0</td>\n",
       "      <td>0.0</td>\n",
       "      <td>1.0</td>\n",
       "      <td>0.0</td>\n",
       "      <td>0.0</td>\n",
       "      <td>0.0</td>\n",
       "      <td>0.0</td>\n",
       "      <td>0.0</td>\n",
       "      <td>0.0</td>\n",
       "    </tr>\n",
       "    <tr>\n",
       "      <th>17033</th>\n",
       "      <td>0.0</td>\n",
       "      <td>0.0</td>\n",
       "      <td>0.0</td>\n",
       "      <td>1.0</td>\n",
       "      <td>0.0</td>\n",
       "      <td>0.0</td>\n",
       "      <td>0.0</td>\n",
       "      <td>0.0</td>\n",
       "      <td>0.0</td>\n",
       "      <td>0.0</td>\n",
       "      <td>...</td>\n",
       "      <td>0.0</td>\n",
       "      <td>0.0</td>\n",
       "      <td>0.0</td>\n",
       "      <td>0.0</td>\n",
       "      <td>0.0</td>\n",
       "      <td>0.0</td>\n",
       "      <td>0.0</td>\n",
       "      <td>0.0</td>\n",
       "      <td>0.0</td>\n",
       "      <td>0.0</td>\n",
       "    </tr>\n",
       "    <tr>\n",
       "      <th>27239</th>\n",
       "      <td>0.0</td>\n",
       "      <td>0.0</td>\n",
       "      <td>0.0</td>\n",
       "      <td>1.0</td>\n",
       "      <td>0.0</td>\n",
       "      <td>0.0</td>\n",
       "      <td>0.0</td>\n",
       "      <td>0.0</td>\n",
       "      <td>0.0</td>\n",
       "      <td>0.0</td>\n",
       "      <td>...</td>\n",
       "      <td>0.0</td>\n",
       "      <td>0.0</td>\n",
       "      <td>0.0</td>\n",
       "      <td>0.0</td>\n",
       "      <td>1.0</td>\n",
       "      <td>0.0</td>\n",
       "      <td>0.0</td>\n",
       "      <td>0.0</td>\n",
       "      <td>0.0</td>\n",
       "      <td>0.0</td>\n",
       "    </tr>\n",
       "    <tr>\n",
       "      <th>34022</th>\n",
       "      <td>0.0</td>\n",
       "      <td>0.0</td>\n",
       "      <td>0.0</td>\n",
       "      <td>1.0</td>\n",
       "      <td>0.0</td>\n",
       "      <td>0.0</td>\n",
       "      <td>1.0</td>\n",
       "      <td>0.0</td>\n",
       "      <td>0.0</td>\n",
       "      <td>0.0</td>\n",
       "      <td>...</td>\n",
       "      <td>0.0</td>\n",
       "      <td>0.0</td>\n",
       "      <td>0.0</td>\n",
       "      <td>0.0</td>\n",
       "      <td>0.0</td>\n",
       "      <td>0.0</td>\n",
       "      <td>0.0</td>\n",
       "      <td>0.0</td>\n",
       "      <td>0.0</td>\n",
       "      <td>0.0</td>\n",
       "    </tr>\n",
       "  </tbody>\n",
       "</table>\n",
       "<p>17920 rows × 36 columns</p>\n",
       "</div>"
      ],
      "text/plain": [
       "            x0_Africa  x0_America  x0_Asia  x0_Europe  x0_Oceania  \\\n",
       "CITIZEN_ID                                                          \n",
       "28969             0.0         0.0      0.0        1.0         0.0   \n",
       "24903             1.0         0.0      0.0        0.0         0.0   \n",
       "30519             0.0         0.0      0.0        0.0         1.0   \n",
       "31506             0.0         0.0      1.0        0.0         0.0   \n",
       "16478             0.0         0.0      0.0        1.0         0.0   \n",
       "...               ...         ...      ...        ...         ...   \n",
       "16765             0.0         0.0      0.0        1.0         0.0   \n",
       "31476             0.0         0.0      0.0        1.0         0.0   \n",
       "17033             0.0         0.0      0.0        1.0         0.0   \n",
       "27239             0.0         0.0      0.0        1.0         0.0   \n",
       "34022             0.0         0.0      0.0        1.0         0.0   \n",
       "\n",
       "            x1_Divorced  x1_Married  x1_Married - Spouse Missing  \\\n",
       "CITIZEN_ID                                                         \n",
       "28969               0.0         0.0                          0.0   \n",
       "24903               0.0         0.0                          0.0   \n",
       "30519               0.0         1.0                          0.0   \n",
       "31506               0.0         0.0                          0.0   \n",
       "16478               0.0         1.0                          0.0   \n",
       "...                 ...         ...                          ...   \n",
       "16765               0.0         0.0                          0.0   \n",
       "31476               0.0         0.0                          0.0   \n",
       "17033               0.0         0.0                          0.0   \n",
       "27239               0.0         0.0                          0.0   \n",
       "34022               0.0         1.0                          0.0   \n",
       "\n",
       "            x1_Married - Spouse in the Army  x1_Separated  ...  \\\n",
       "CITIZEN_ID                                                 ...   \n",
       "28969                                   0.0           0.0  ...   \n",
       "24903                                   0.0           0.0  ...   \n",
       "30519                                   0.0           0.0  ...   \n",
       "31506                                   0.0           0.0  ...   \n",
       "16478                                   0.0           0.0  ...   \n",
       "...                                     ...           ...  ...   \n",
       "16765                                   0.0           0.0  ...   \n",
       "31476                                   0.0           0.0  ...   \n",
       "17033                                   0.0           0.0  ...   \n",
       "27239                                   0.0           0.0  ...   \n",
       "34022                                   0.0           0.0  ...   \n",
       "\n",
       "            x4_Household Services  x4_IT  x4_Machine Operators & Inspectors  \\\n",
       "CITIZEN_ID                                                                    \n",
       "28969                         0.0    0.0                                1.0   \n",
       "24903                         0.0    0.0                                1.0   \n",
       "30519                         0.0    0.0                                0.0   \n",
       "31506                         0.0    0.0                                0.0   \n",
       "16478                         0.0    0.0                                0.0   \n",
       "...                           ...    ...                                ...   \n",
       "16765                         0.0    0.0                                0.0   \n",
       "31476                         0.0    0.0                                0.0   \n",
       "17033                         0.0    0.0                                0.0   \n",
       "27239                         0.0    0.0                                0.0   \n",
       "34022                         0.0    0.0                                0.0   \n",
       "\n",
       "            x4_Management  x4_Other services  x4_Professor  \\\n",
       "CITIZEN_ID                                                   \n",
       "28969                 0.0                0.0           0.0   \n",
       "24903                 0.0                0.0           0.0   \n",
       "30519                 0.0                0.0           0.0   \n",
       "31506                 0.0                0.0           0.0   \n",
       "16478                 0.0                0.0           0.0   \n",
       "...                   ...                ...           ...   \n",
       "16765                 0.0                0.0           0.0   \n",
       "31476                 1.0                0.0           0.0   \n",
       "17033                 0.0                0.0           0.0   \n",
       "27239                 0.0                1.0           0.0   \n",
       "34022                 0.0                0.0           0.0   \n",
       "\n",
       "            x4_Repair & constructions  x4_Sales  x4_Security  x4_Transports  \n",
       "CITIZEN_ID                                                                   \n",
       "28969                             0.0       0.0          0.0            0.0  \n",
       "24903                             0.0       0.0          0.0            0.0  \n",
       "30519                             1.0       0.0          0.0            0.0  \n",
       "31506                             0.0       1.0          0.0            0.0  \n",
       "16478                             1.0       0.0          0.0            0.0  \n",
       "...                               ...       ...          ...            ...  \n",
       "16765                             1.0       0.0          0.0            0.0  \n",
       "31476                             0.0       0.0          0.0            0.0  \n",
       "17033                             0.0       0.0          0.0            0.0  \n",
       "27239                             0.0       0.0          0.0            0.0  \n",
       "34022                             0.0       0.0          0.0            0.0  \n",
       "\n",
       "[17920 rows x 36 columns]"
      ]
     },
     "execution_count": 39,
     "metadata": {},
     "output_type": "execute_result"
    }
   ],
   "source": [
    "ohc1 = OneHotEncoder(sparse=False)\n",
    "ohc_feat1 = ohc1.fit_transform(df_ohc[features_to_encode])\n",
    "ohc_feat_names1 = ohc1.get_feature_names()\n",
    "ohc_df = pd.DataFrame(ohc_feat1, index=df_ohc.index, columns=ohc_feat_names1)  \n",
    "ohc_df"
   ]
  },
  {
   "cell_type": "code",
   "execution_count": 40,
   "metadata": {
    "scrolled": true
   },
   "outputs": [],
   "source": [
    "X_train  = pd.concat([X_train,ohc_df],axis = 1)\n",
    "X_train.drop(columns=features_to_encode, inplace = True)"
   ]
  },
  {
   "cell_type": "markdown",
   "metadata": {},
   "source": [
    "### for x_test"
   ]
  },
  {
   "cell_type": "code",
   "execution_count": 41,
   "metadata": {
    "scrolled": false
   },
   "outputs": [],
   "source": [
    "df_ohc_test = X_test.copy()"
   ]
  },
  {
   "cell_type": "code",
   "execution_count": 42,
   "metadata": {},
   "outputs": [
    {
     "data": {
      "text/html": [
       "<div>\n",
       "<style scoped>\n",
       "    .dataframe tbody tr th:only-of-type {\n",
       "        vertical-align: middle;\n",
       "    }\n",
       "\n",
       "    .dataframe tbody tr th {\n",
       "        vertical-align: top;\n",
       "    }\n",
       "\n",
       "    .dataframe thead th {\n",
       "        text-align: right;\n",
       "    }\n",
       "</style>\n",
       "<table border=\"1\" class=\"dataframe\">\n",
       "  <thead>\n",
       "    <tr style=\"text-align: right;\">\n",
       "      <th></th>\n",
       "      <th>x0_Africa</th>\n",
       "      <th>x0_America</th>\n",
       "      <th>x0_Asia</th>\n",
       "      <th>x0_Europe</th>\n",
       "      <th>x0_Oceania</th>\n",
       "      <th>x1_Divorced</th>\n",
       "      <th>x1_Married</th>\n",
       "      <th>x1_Married - Spouse Missing</th>\n",
       "      <th>x1_Married - Spouse in the Army</th>\n",
       "      <th>x1_Separated</th>\n",
       "      <th>...</th>\n",
       "      <th>x4_Household Services</th>\n",
       "      <th>x4_IT</th>\n",
       "      <th>x4_Machine Operators &amp; Inspectors</th>\n",
       "      <th>x4_Management</th>\n",
       "      <th>x4_Other services</th>\n",
       "      <th>x4_Professor</th>\n",
       "      <th>x4_Repair &amp; constructions</th>\n",
       "      <th>x4_Sales</th>\n",
       "      <th>x4_Security</th>\n",
       "      <th>x4_Transports</th>\n",
       "    </tr>\n",
       "    <tr>\n",
       "      <th>CITIZEN_ID</th>\n",
       "      <th></th>\n",
       "      <th></th>\n",
       "      <th></th>\n",
       "      <th></th>\n",
       "      <th></th>\n",
       "      <th></th>\n",
       "      <th></th>\n",
       "      <th></th>\n",
       "      <th></th>\n",
       "      <th></th>\n",
       "      <th></th>\n",
       "      <th></th>\n",
       "      <th></th>\n",
       "      <th></th>\n",
       "      <th></th>\n",
       "      <th></th>\n",
       "      <th></th>\n",
       "      <th></th>\n",
       "      <th></th>\n",
       "      <th></th>\n",
       "      <th></th>\n",
       "    </tr>\n",
       "  </thead>\n",
       "  <tbody>\n",
       "    <tr>\n",
       "      <th>28489</th>\n",
       "      <td>0.0</td>\n",
       "      <td>0.0</td>\n",
       "      <td>0.0</td>\n",
       "      <td>1.0</td>\n",
       "      <td>0.0</td>\n",
       "      <td>0.0</td>\n",
       "      <td>1.0</td>\n",
       "      <td>0.0</td>\n",
       "      <td>0.0</td>\n",
       "      <td>0.0</td>\n",
       "      <td>...</td>\n",
       "      <td>0.0</td>\n",
       "      <td>0.0</td>\n",
       "      <td>0.0</td>\n",
       "      <td>1.0</td>\n",
       "      <td>0.0</td>\n",
       "      <td>0.0</td>\n",
       "      <td>0.0</td>\n",
       "      <td>0.0</td>\n",
       "      <td>0.0</td>\n",
       "      <td>0.0</td>\n",
       "    </tr>\n",
       "    <tr>\n",
       "      <th>20073</th>\n",
       "      <td>0.0</td>\n",
       "      <td>0.0</td>\n",
       "      <td>0.0</td>\n",
       "      <td>1.0</td>\n",
       "      <td>0.0</td>\n",
       "      <td>0.0</td>\n",
       "      <td>0.0</td>\n",
       "      <td>0.0</td>\n",
       "      <td>0.0</td>\n",
       "      <td>0.0</td>\n",
       "      <td>...</td>\n",
       "      <td>0.0</td>\n",
       "      <td>0.0</td>\n",
       "      <td>0.0</td>\n",
       "      <td>0.0</td>\n",
       "      <td>0.0</td>\n",
       "      <td>0.0</td>\n",
       "      <td>0.0</td>\n",
       "      <td>0.0</td>\n",
       "      <td>0.0</td>\n",
       "      <td>0.0</td>\n",
       "    </tr>\n",
       "    <tr>\n",
       "      <th>23201</th>\n",
       "      <td>1.0</td>\n",
       "      <td>0.0</td>\n",
       "      <td>0.0</td>\n",
       "      <td>0.0</td>\n",
       "      <td>0.0</td>\n",
       "      <td>0.0</td>\n",
       "      <td>0.0</td>\n",
       "      <td>0.0</td>\n",
       "      <td>0.0</td>\n",
       "      <td>0.0</td>\n",
       "      <td>...</td>\n",
       "      <td>0.0</td>\n",
       "      <td>0.0</td>\n",
       "      <td>0.0</td>\n",
       "      <td>0.0</td>\n",
       "      <td>1.0</td>\n",
       "      <td>0.0</td>\n",
       "      <td>0.0</td>\n",
       "      <td>0.0</td>\n",
       "      <td>0.0</td>\n",
       "      <td>0.0</td>\n",
       "    </tr>\n",
       "    <tr>\n",
       "      <th>20223</th>\n",
       "      <td>0.0</td>\n",
       "      <td>0.0</td>\n",
       "      <td>0.0</td>\n",
       "      <td>1.0</td>\n",
       "      <td>0.0</td>\n",
       "      <td>0.0</td>\n",
       "      <td>1.0</td>\n",
       "      <td>0.0</td>\n",
       "      <td>0.0</td>\n",
       "      <td>0.0</td>\n",
       "      <td>...</td>\n",
       "      <td>0.0</td>\n",
       "      <td>0.0</td>\n",
       "      <td>0.0</td>\n",
       "      <td>0.0</td>\n",
       "      <td>0.0</td>\n",
       "      <td>0.0</td>\n",
       "      <td>1.0</td>\n",
       "      <td>0.0</td>\n",
       "      <td>0.0</td>\n",
       "      <td>0.0</td>\n",
       "    </tr>\n",
       "    <tr>\n",
       "      <th>16269</th>\n",
       "      <td>0.0</td>\n",
       "      <td>0.0</td>\n",
       "      <td>0.0</td>\n",
       "      <td>1.0</td>\n",
       "      <td>0.0</td>\n",
       "      <td>0.0</td>\n",
       "      <td>1.0</td>\n",
       "      <td>0.0</td>\n",
       "      <td>0.0</td>\n",
       "      <td>0.0</td>\n",
       "      <td>...</td>\n",
       "      <td>0.0</td>\n",
       "      <td>0.0</td>\n",
       "      <td>0.0</td>\n",
       "      <td>0.0</td>\n",
       "      <td>0.0</td>\n",
       "      <td>0.0</td>\n",
       "      <td>0.0</td>\n",
       "      <td>0.0</td>\n",
       "      <td>0.0</td>\n",
       "      <td>0.0</td>\n",
       "    </tr>\n",
       "    <tr>\n",
       "      <th>...</th>\n",
       "      <td>...</td>\n",
       "      <td>...</td>\n",
       "      <td>...</td>\n",
       "      <td>...</td>\n",
       "      <td>...</td>\n",
       "      <td>...</td>\n",
       "      <td>...</td>\n",
       "      <td>...</td>\n",
       "      <td>...</td>\n",
       "      <td>...</td>\n",
       "      <td>...</td>\n",
       "      <td>...</td>\n",
       "      <td>...</td>\n",
       "      <td>...</td>\n",
       "      <td>...</td>\n",
       "      <td>...</td>\n",
       "      <td>...</td>\n",
       "      <td>...</td>\n",
       "      <td>...</td>\n",
       "      <td>...</td>\n",
       "      <td>...</td>\n",
       "    </tr>\n",
       "    <tr>\n",
       "      <th>17730</th>\n",
       "      <td>0.0</td>\n",
       "      <td>0.0</td>\n",
       "      <td>0.0</td>\n",
       "      <td>1.0</td>\n",
       "      <td>0.0</td>\n",
       "      <td>0.0</td>\n",
       "      <td>0.0</td>\n",
       "      <td>0.0</td>\n",
       "      <td>0.0</td>\n",
       "      <td>1.0</td>\n",
       "      <td>...</td>\n",
       "      <td>0.0</td>\n",
       "      <td>0.0</td>\n",
       "      <td>0.0</td>\n",
       "      <td>0.0</td>\n",
       "      <td>0.0</td>\n",
       "      <td>0.0</td>\n",
       "      <td>1.0</td>\n",
       "      <td>0.0</td>\n",
       "      <td>0.0</td>\n",
       "      <td>0.0</td>\n",
       "    </tr>\n",
       "    <tr>\n",
       "      <th>20606</th>\n",
       "      <td>0.0</td>\n",
       "      <td>0.0</td>\n",
       "      <td>0.0</td>\n",
       "      <td>1.0</td>\n",
       "      <td>0.0</td>\n",
       "      <td>0.0</td>\n",
       "      <td>0.0</td>\n",
       "      <td>0.0</td>\n",
       "      <td>0.0</td>\n",
       "      <td>0.0</td>\n",
       "      <td>...</td>\n",
       "      <td>0.0</td>\n",
       "      <td>0.0</td>\n",
       "      <td>0.0</td>\n",
       "      <td>0.0</td>\n",
       "      <td>0.0</td>\n",
       "      <td>0.0</td>\n",
       "      <td>0.0</td>\n",
       "      <td>0.0</td>\n",
       "      <td>0.0</td>\n",
       "      <td>0.0</td>\n",
       "    </tr>\n",
       "    <tr>\n",
       "      <th>34289</th>\n",
       "      <td>0.0</td>\n",
       "      <td>0.0</td>\n",
       "      <td>0.0</td>\n",
       "      <td>1.0</td>\n",
       "      <td>0.0</td>\n",
       "      <td>0.0</td>\n",
       "      <td>1.0</td>\n",
       "      <td>0.0</td>\n",
       "      <td>0.0</td>\n",
       "      <td>0.0</td>\n",
       "      <td>...</td>\n",
       "      <td>0.0</td>\n",
       "      <td>0.0</td>\n",
       "      <td>0.0</td>\n",
       "      <td>0.0</td>\n",
       "      <td>0.0</td>\n",
       "      <td>0.0</td>\n",
       "      <td>0.0</td>\n",
       "      <td>0.0</td>\n",
       "      <td>0.0</td>\n",
       "      <td>1.0</td>\n",
       "    </tr>\n",
       "    <tr>\n",
       "      <th>14118</th>\n",
       "      <td>0.0</td>\n",
       "      <td>0.0</td>\n",
       "      <td>0.0</td>\n",
       "      <td>1.0</td>\n",
       "      <td>0.0</td>\n",
       "      <td>0.0</td>\n",
       "      <td>1.0</td>\n",
       "      <td>0.0</td>\n",
       "      <td>0.0</td>\n",
       "      <td>0.0</td>\n",
       "      <td>...</td>\n",
       "      <td>0.0</td>\n",
       "      <td>0.0</td>\n",
       "      <td>0.0</td>\n",
       "      <td>0.0</td>\n",
       "      <td>0.0</td>\n",
       "      <td>1.0</td>\n",
       "      <td>0.0</td>\n",
       "      <td>0.0</td>\n",
       "      <td>0.0</td>\n",
       "      <td>0.0</td>\n",
       "    </tr>\n",
       "    <tr>\n",
       "      <th>18552</th>\n",
       "      <td>0.0</td>\n",
       "      <td>0.0</td>\n",
       "      <td>0.0</td>\n",
       "      <td>1.0</td>\n",
       "      <td>0.0</td>\n",
       "      <td>0.0</td>\n",
       "      <td>1.0</td>\n",
       "      <td>0.0</td>\n",
       "      <td>0.0</td>\n",
       "      <td>0.0</td>\n",
       "      <td>...</td>\n",
       "      <td>0.0</td>\n",
       "      <td>0.0</td>\n",
       "      <td>0.0</td>\n",
       "      <td>1.0</td>\n",
       "      <td>0.0</td>\n",
       "      <td>0.0</td>\n",
       "      <td>0.0</td>\n",
       "      <td>0.0</td>\n",
       "      <td>0.0</td>\n",
       "      <td>0.0</td>\n",
       "    </tr>\n",
       "  </tbody>\n",
       "</table>\n",
       "<p>4480 rows × 36 columns</p>\n",
       "</div>"
      ],
      "text/plain": [
       "            x0_Africa  x0_America  x0_Asia  x0_Europe  x0_Oceania  \\\n",
       "CITIZEN_ID                                                          \n",
       "28489             0.0         0.0      0.0        1.0         0.0   \n",
       "20073             0.0         0.0      0.0        1.0         0.0   \n",
       "23201             1.0         0.0      0.0        0.0         0.0   \n",
       "20223             0.0         0.0      0.0        1.0         0.0   \n",
       "16269             0.0         0.0      0.0        1.0         0.0   \n",
       "...               ...         ...      ...        ...         ...   \n",
       "17730             0.0         0.0      0.0        1.0         0.0   \n",
       "20606             0.0         0.0      0.0        1.0         0.0   \n",
       "34289             0.0         0.0      0.0        1.0         0.0   \n",
       "14118             0.0         0.0      0.0        1.0         0.0   \n",
       "18552             0.0         0.0      0.0        1.0         0.0   \n",
       "\n",
       "            x1_Divorced  x1_Married  x1_Married - Spouse Missing  \\\n",
       "CITIZEN_ID                                                         \n",
       "28489               0.0         1.0                          0.0   \n",
       "20073               0.0         0.0                          0.0   \n",
       "23201               0.0         0.0                          0.0   \n",
       "20223               0.0         1.0                          0.0   \n",
       "16269               0.0         1.0                          0.0   \n",
       "...                 ...         ...                          ...   \n",
       "17730               0.0         0.0                          0.0   \n",
       "20606               0.0         0.0                          0.0   \n",
       "34289               0.0         1.0                          0.0   \n",
       "14118               0.0         1.0                          0.0   \n",
       "18552               0.0         1.0                          0.0   \n",
       "\n",
       "            x1_Married - Spouse in the Army  x1_Separated  ...  \\\n",
       "CITIZEN_ID                                                 ...   \n",
       "28489                                   0.0           0.0  ...   \n",
       "20073                                   0.0           0.0  ...   \n",
       "23201                                   0.0           0.0  ...   \n",
       "20223                                   0.0           0.0  ...   \n",
       "16269                                   0.0           0.0  ...   \n",
       "...                                     ...           ...  ...   \n",
       "17730                                   0.0           1.0  ...   \n",
       "20606                                   0.0           0.0  ...   \n",
       "34289                                   0.0           0.0  ...   \n",
       "14118                                   0.0           0.0  ...   \n",
       "18552                                   0.0           0.0  ...   \n",
       "\n",
       "            x4_Household Services  x4_IT  x4_Machine Operators & Inspectors  \\\n",
       "CITIZEN_ID                                                                    \n",
       "28489                         0.0    0.0                                0.0   \n",
       "20073                         0.0    0.0                                0.0   \n",
       "23201                         0.0    0.0                                0.0   \n",
       "20223                         0.0    0.0                                0.0   \n",
       "16269                         0.0    0.0                                0.0   \n",
       "...                           ...    ...                                ...   \n",
       "17730                         0.0    0.0                                0.0   \n",
       "20606                         0.0    0.0                                0.0   \n",
       "34289                         0.0    0.0                                0.0   \n",
       "14118                         0.0    0.0                                0.0   \n",
       "18552                         0.0    0.0                                0.0   \n",
       "\n",
       "            x4_Management  x4_Other services  x4_Professor  \\\n",
       "CITIZEN_ID                                                   \n",
       "28489                 1.0                0.0           0.0   \n",
       "20073                 0.0                0.0           0.0   \n",
       "23201                 0.0                1.0           0.0   \n",
       "20223                 0.0                0.0           0.0   \n",
       "16269                 0.0                0.0           0.0   \n",
       "...                   ...                ...           ...   \n",
       "17730                 0.0                0.0           0.0   \n",
       "20606                 0.0                0.0           0.0   \n",
       "34289                 0.0                0.0           0.0   \n",
       "14118                 0.0                0.0           1.0   \n",
       "18552                 1.0                0.0           0.0   \n",
       "\n",
       "            x4_Repair & constructions  x4_Sales  x4_Security  x4_Transports  \n",
       "CITIZEN_ID                                                                   \n",
       "28489                             0.0       0.0          0.0            0.0  \n",
       "20073                             0.0       0.0          0.0            0.0  \n",
       "23201                             0.0       0.0          0.0            0.0  \n",
       "20223                             1.0       0.0          0.0            0.0  \n",
       "16269                             0.0       0.0          0.0            0.0  \n",
       "...                               ...       ...          ...            ...  \n",
       "17730                             1.0       0.0          0.0            0.0  \n",
       "20606                             0.0       0.0          0.0            0.0  \n",
       "34289                             0.0       0.0          0.0            1.0  \n",
       "14118                             0.0       0.0          0.0            0.0  \n",
       "18552                             0.0       0.0          0.0            0.0  \n",
       "\n",
       "[4480 rows x 36 columns]"
      ]
     },
     "execution_count": 42,
     "metadata": {},
     "output_type": "execute_result"
    }
   ],
   "source": [
    "ohc_test = OneHotEncoder(sparse=False)\n",
    "ohc_feat = ohc_test.fit_transform(df_ohc_test[features_to_encode])\n",
    "ohc_feat_names = ohc_test.get_feature_names()\n",
    "ohc_df_test = pd.DataFrame(ohc_feat, index=df_ohc_test.index, columns=ohc_feat_names)  \n",
    "ohc_df_test"
   ]
  },
  {
   "cell_type": "code",
   "execution_count": 43,
   "metadata": {},
   "outputs": [],
   "source": [
    "X_test  = pd.concat([X_test,ohc_df_test],axis = 1)\n",
    "X_test.drop(columns=features_to_encode, inplace = True)"
   ]
  },
  {
   "cell_type": "markdown",
   "metadata": {},
   "source": [
    "## Data Normalization/Standardization"
   ]
  },
  {
   "cell_type": "code",
   "execution_count": 44,
   "metadata": {},
   "outputs": [],
   "source": [
    "from sklearn.preprocessing import MinMaxScaler, StandardScaler"
   ]
  },
  {
   "cell_type": "markdown",
   "metadata": {},
   "source": [
    "### MinMax Scaler\n"
   ]
  },
  {
   "cell_type": "code",
   "execution_count": 45,
   "metadata": {
    "scrolled": true
   },
   "outputs": [],
   "source": [
    "# scalertrain = MinMaxScaler()\n",
    "# scaled_feat_train = scalertrain.fit_transform(X_train)\n"
   ]
  },
  {
   "cell_type": "code",
   "execution_count": 46,
   "metadata": {},
   "outputs": [],
   "source": [
    "# scalertest2 = MinMaxScaler()\n",
    "# scaled_feat_test = scalertest2.fit_transform(X_test)\n"
   ]
  },
  {
   "cell_type": "code",
   "execution_count": 47,
   "metadata": {
    "scrolled": true
   },
   "outputs": [],
   "source": [
    "\n",
    "# X_train = pd.DataFrame(scaled_feat_train, columns = X_train.columns) \n",
    "# X_test = pd.DataFrame(scaled_feat_test, columns =X_test.columns) \n"
   ]
  },
  {
   "cell_type": "code",
   "execution_count": 48,
   "metadata": {},
   "outputs": [],
   "source": [
    "# combine = [X_train,X_test]"
   ]
  },
  {
   "cell_type": "markdown",
   "metadata": {},
   "source": [
    "### StandardScaler"
   ]
  },
  {
   "cell_type": "code",
   "execution_count": 49,
   "metadata": {},
   "outputs": [],
   "source": [
    "# scalertrain = StandardScaler()\n",
    "# scaled_feat_train = scalertrain.fit_transform(X_train)"
   ]
  },
  {
   "cell_type": "code",
   "execution_count": 50,
   "metadata": {},
   "outputs": [],
   "source": [
    "# scalertest2 = StandardScaler()\n",
    "# scaled_feat_test = scalertest2.fit_transform(X_test)"
   ]
  },
  {
   "cell_type": "code",
   "execution_count": 51,
   "metadata": {},
   "outputs": [],
   "source": [
    "# X_train = pd.DataFrame(scaled_feat_train, columns = X_train.columns) \n",
    "# X_test = pd.DataFrame(scaled_feat_test, columns =X_test.columns) \n"
   ]
  },
  {
   "cell_type": "code",
   "execution_count": 52,
   "metadata": {},
   "outputs": [],
   "source": [
    "# combine = [X_train,X_test]"
   ]
  },
  {
   "cell_type": "markdown",
   "metadata": {},
   "source": [
    "## Feature selection"
   ]
  },
  {
   "cell_type": "code",
   "execution_count": 53,
   "metadata": {},
   "outputs": [],
   "source": [
    "from sklearn.linear_model import LassoCV, LinearRegression, RidgeCV, LogisticRegression\n",
    "from sklearn.feature_selection import RFE,mutual_info_classif,GenericUnivariateSelect"
   ]
  },
  {
   "cell_type": "markdown",
   "metadata": {},
   "source": [
    "### RFE"
   ]
  },
  {
   "cell_type": "code",
   "execution_count": 54,
   "metadata": {},
   "outputs": [],
   "source": [
    "import matplotlib.pyplot as plt"
   ]
  },
  {
   "cell_type": "code",
   "execution_count": 55,
   "metadata": {},
   "outputs": [],
   "source": [
    "\n",
    "model = LinearRegression()"
   ]
  },
  {
   "cell_type": "code",
   "execution_count": 56,
   "metadata": {
    "scrolled": true
   },
   "outputs": [],
   "source": [
    "rfe = RFE(estimator = model, n_features_to_select = 4)"
   ]
  },
  {
   "cell_type": "code",
   "execution_count": 57,
   "metadata": {
    "scrolled": true
   },
   "outputs": [],
   "source": [
    "X_rfe = rfe.fit_transform(X = X_train, y = y_train) "
   ]
  },
  {
   "cell_type": "code",
   "execution_count": 58,
   "metadata": {},
   "outputs": [
    {
     "data": {
      "text/plain": [
       "LinearRegression()"
      ]
     },
     "execution_count": 58,
     "metadata": {},
     "output_type": "execute_result"
    }
   ],
   "source": [
    "model.fit(X = X_rfe, y = y_train)"
   ]
  },
  {
   "cell_type": "code",
   "execution_count": 59,
   "metadata": {},
   "outputs": [
    {
     "data": {
      "text/plain": [
       "array([False, False, False, False, False, False, False, False, False,\n",
       "       False, False, False, False, False, False, False, False, False,\n",
       "       False, False, False, False, False, False, False, False, False,\n",
       "       False, False, False, False, False,  True, False,  True, False,\n",
       "        True, False, False,  True, False])"
      ]
     },
     "execution_count": 59,
     "metadata": {},
     "output_type": "execute_result"
    }
   ],
   "source": [
    "rfe.support_"
   ]
  },
  {
   "cell_type": "code",
   "execution_count": 60,
   "metadata": {},
   "outputs": [
    {
     "data": {
      "text/plain": [
       "array([35, 36, 34, 37, 38, 32, 30, 31, 33, 29, 16, 13, 14, 12, 17, 18, 15,\n",
       "       21, 20, 24, 22, 19, 23, 27, 26, 25, 28,  5,  7, 10,  8, 11,  1,  6,\n",
       "        1,  9,  1,  4,  2,  1,  3])"
      ]
     },
     "execution_count": 60,
     "metadata": {},
     "output_type": "execute_result"
    }
   ],
   "source": [
    "rfe.ranking_"
   ]
  },
  {
   "cell_type": "code",
   "execution_count": 61,
   "metadata": {
    "scrolled": false
   },
   "outputs": [
    {
     "data": {
      "text/plain": [
       "Years of Education                   False\n",
       "Working Hours per week               False\n",
       "Gender                               False\n",
       "Age                                  False\n",
       "money_dif                            False\n",
       "x0_Africa                            False\n",
       "x0_America                           False\n",
       "x0_Asia                              False\n",
       "x0_Europe                            False\n",
       "x0_Oceania                           False\n",
       "x1_Divorced                          False\n",
       "x1_Married                           False\n",
       "x1_Married - Spouse Missing          False\n",
       "x1_Married - Spouse in the Army      False\n",
       "x1_Separated                         False\n",
       "x1_Single                            False\n",
       "x1_Widow                             False\n",
       "x2_Alone                             False\n",
       "x2_Children                          False\n",
       "x2_Husband                           False\n",
       "x2_Other Family                      False\n",
       "x2_Other relatives                   False\n",
       "x2_Wife                              False\n",
       "x3_Private                           False\n",
       "x3_Public                            False\n",
       "x3_Self-Employed                     False\n",
       "x3_Unemployed                        False\n",
       "x4_Administratives                   False\n",
       "x4_Agriculture and Fishing           False\n",
       "x4_Army                              False\n",
       "x4_Cleaners & Handlers               False\n",
       "x4_Household Services                False\n",
       "x4_IT                                 True\n",
       "x4_Machine Operators & Inspectors    False\n",
       "x4_Management                         True\n",
       "x4_Other services                    False\n",
       "x4_Professor                          True\n",
       "x4_Repair & constructions            False\n",
       "x4_Sales                             False\n",
       "x4_Security                           True\n",
       "x4_Transports                        False\n",
       "dtype: bool"
      ]
     },
     "execution_count": 61,
     "metadata": {},
     "output_type": "execute_result"
    }
   ],
   "source": [
    "selected_features = pd.Series(rfe.support_, index = X_train.columns)\n",
    "selected_features"
   ]
  },
  {
   "cell_type": "markdown",
   "metadata": {},
   "source": [
    "### Optimal number of features"
   ]
  },
  {
   "cell_type": "code",
   "execution_count": 62,
   "metadata": {
    "scrolled": true
   },
   "outputs": [
    {
     "name": "stdout",
     "output_type": "stream",
     "text": [
      "0.05009889938862022\n",
      "0.0707827552697684\n",
      "0.07133983146818701\n",
      "0.07246727923140739\n",
      "0.08308521673750202\n",
      "0.08472128159536718\n",
      "0.09184589201322058\n",
      "0.09365409773961408\n",
      "0.09490487864167996\n",
      "0.0953957522301121\n",
      "0.09536928346580642\n",
      "0.09532008299609784\n",
      "Optimum number of features: 10\n",
      "Score with 10 features: 0.095396\n"
     ]
    }
   ],
   "source": [
    "#no of features\n",
    "nof_list=np.arange(1,13)            \n",
    "high_score=0\n",
    "#Variable to store the optimum features\n",
    "nof=0           \n",
    "score_list =[]\n",
    "for n in range(len(nof_list)):\n",
    "    # we are going to see in the next class this \"train_test_split()\"...\n",
    "    #X_train, X_test, y_train, y_test = train_test_split(data,target, test_size = 0.3, random_state = 0)\n",
    "    \n",
    "    model = LinearRegression()\n",
    "    rfe = RFE(model,nof_list[n])\n",
    "    X_train_rfe = rfe.fit_transform(X_train,y_train)\n",
    "    X_test_rfe = rfe.transform(X_test)\n",
    "    model.fit(X_train_rfe,y_train)\n",
    "    \n",
    "    score = model.score(X_test_rfe,y_test)\n",
    "    score_list.append(score)\n",
    "    print(score)\n",
    "    if(score>high_score):\n",
    "        high_score = score\n",
    "        nof = nof_list[n]\n",
    "print(\"Optimum number of features: %d\" %nof)\n",
    "print(\"Score with %d features: %f\" % (nof, high_score))"
   ]
  },
  {
   "cell_type": "markdown",
   "metadata": {},
   "source": [
    "## Lasso"
   ]
  },
  {
   "cell_type": "code",
   "execution_count": 63,
   "metadata": {},
   "outputs": [],
   "source": [
    "def plot_importance(coef,name):\n",
    "    imp_coef = coef.sort_values()\n",
    "    plt.figure(figsize=(8,10))\n",
    "    imp_coef.plot(kind = \"barh\")\n",
    "    plt.title(\"Feature importance using \" + name + \" Model\")\n",
    "    plt.show()"
   ]
  },
  {
   "cell_type": "code",
   "execution_count": 64,
   "metadata": {},
   "outputs": [],
   "source": [
    "reg = LassoCV()"
   ]
  },
  {
   "cell_type": "code",
   "execution_count": 65,
   "metadata": {},
   "outputs": [
    {
     "data": {
      "text/plain": [
       "LassoCV()"
      ]
     },
     "execution_count": 65,
     "metadata": {},
     "output_type": "execute_result"
    }
   ],
   "source": [
    "reg.fit(X=X_train,y=y_train)"
   ]
  },
  {
   "cell_type": "code",
   "execution_count": 66,
   "metadata": {},
   "outputs": [
    {
     "name": "stdout",
     "output_type": "stream",
     "text": [
      "Best alpha using built-in LassoCV: 0.823262\n"
     ]
    }
   ],
   "source": [
    "print(\"Best alpha using built-in LassoCV: %f\" % reg.alpha_)"
   ]
  },
  {
   "cell_type": "code",
   "execution_count": 67,
   "metadata": {},
   "outputs": [
    {
     "name": "stdout",
     "output_type": "stream",
     "text": [
      "Best score using built-in LassoCV: 0.085588\n"
     ]
    }
   ],
   "source": [
    "print(\"Best score using built-in LassoCV: %f\" %reg.score(X_train,y_train))"
   ]
  },
  {
   "cell_type": "code",
   "execution_count": 68,
   "metadata": {},
   "outputs": [
    {
     "data": {
      "text/plain": [
       "Years of Education                   0.000000\n",
       "Working Hours per week               0.001410\n",
       "Gender                               0.000000\n",
       "Age                                  0.002198\n",
       "money_dif                            0.000010\n",
       "x0_Africa                           -0.000000\n",
       "x0_America                          -0.000000\n",
       "x0_Asia                              0.000000\n",
       "x0_Europe                            0.000000\n",
       "x0_Oceania                          -0.000000\n",
       "x1_Divorced                         -0.000000\n",
       "x1_Married                           0.000000\n",
       "x1_Married - Spouse Missing         -0.000000\n",
       "x1_Married - Spouse in the Army      0.000000\n",
       "x1_Separated                        -0.000000\n",
       "x1_Single                           -0.000000\n",
       "x1_Widow                            -0.000000\n",
       "x2_Alone                            -0.000000\n",
       "x2_Children                         -0.000000\n",
       "x2_Husband                           0.000000\n",
       "x2_Other Family                     -0.000000\n",
       "x2_Other relatives                  -0.000000\n",
       "x2_Wife                              0.000000\n",
       "x3_Private                          -0.000000\n",
       "x3_Public                            0.000000\n",
       "x3_Self-Employed                     0.000000\n",
       "x3_Unemployed                       -0.000000\n",
       "x4_Administratives                  -0.000000\n",
       "x4_Agriculture and Fishing          -0.000000\n",
       "x4_Army                             -0.000000\n",
       "x4_Cleaners & Handlers              -0.000000\n",
       "x4_Household Services               -0.000000\n",
       "x4_IT                                0.000000\n",
       "x4_Machine Operators & Inspectors   -0.000000\n",
       "x4_Management                        0.000000\n",
       "x4_Other services                   -0.000000\n",
       "x4_Professor                         0.000000\n",
       "x4_Repair & constructions           -0.000000\n",
       "x4_Sales                             0.000000\n",
       "x4_Security                          0.000000\n",
       "x4_Transports                       -0.000000\n",
       "dtype: float64"
      ]
     },
     "execution_count": 68,
     "metadata": {},
     "output_type": "execute_result"
    }
   ],
   "source": [
    "coef = pd.Series(reg.coef_, index = X_train.columns)\n",
    "coef"
   ]
  },
  {
   "cell_type": "code",
   "execution_count": 69,
   "metadata": {},
   "outputs": [
    {
     "name": "stdout",
     "output_type": "stream",
     "text": [
      "Lasso picked 3 variables and eliminated the other 38 variables\n"
     ]
    }
   ],
   "source": [
    "print(\"Lasso picked \" + str(sum(coef != 0)) + \" variables and eliminated the other \" +  str(sum(coef == 0)) + \" variables\")"
   ]
  },
  {
   "cell_type": "code",
   "execution_count": 70,
   "metadata": {},
   "outputs": [
    {
     "data": {
      "text/plain": [
       "Years of Education                   0.000000\n",
       "x2_Wife                              0.000000\n",
       "x3_Private                          -0.000000\n",
       "x3_Public                            0.000000\n",
       "x3_Self-Employed                     0.000000\n",
       "x3_Unemployed                       -0.000000\n",
       "x4_Administratives                  -0.000000\n",
       "x4_Agriculture and Fishing          -0.000000\n",
       "x4_Army                             -0.000000\n",
       "x4_Cleaners & Handlers              -0.000000\n",
       "x4_Household Services               -0.000000\n",
       "x4_IT                                0.000000\n",
       "x4_Machine Operators & Inspectors   -0.000000\n",
       "x4_Management                        0.000000\n",
       "x4_Other services                   -0.000000\n",
       "x4_Professor                         0.000000\n",
       "x4_Repair & constructions           -0.000000\n",
       "x4_Sales                             0.000000\n",
       "x2_Other relatives                  -0.000000\n",
       "x4_Security                          0.000000\n",
       "x2_Other Family                     -0.000000\n",
       "x2_Children                         -0.000000\n",
       "Gender                               0.000000\n",
       "x0_Africa                           -0.000000\n",
       "x0_America                          -0.000000\n",
       "x0_Asia                              0.000000\n",
       "x0_Europe                            0.000000\n",
       "x2_Husband                           0.000000\n",
       "x1_Divorced                         -0.000000\n",
       "x0_Oceania                          -0.000000\n",
       "x1_Married - Spouse Missing         -0.000000\n",
       "x1_Married - Spouse in the Army      0.000000\n",
       "x1_Separated                        -0.000000\n",
       "x1_Single                           -0.000000\n",
       "x1_Widow                            -0.000000\n",
       "x2_Alone                            -0.000000\n",
       "x1_Married                           0.000000\n",
       "x4_Transports                       -0.000000\n",
       "money_dif                            0.000010\n",
       "Working Hours per week               0.001410\n",
       "Age                                  0.002198\n",
       "dtype: float64"
      ]
     },
     "execution_count": 70,
     "metadata": {},
     "output_type": "execute_result"
    }
   ],
   "source": [
    "coef.sort_values()"
   ]
  },
  {
   "cell_type": "code",
   "execution_count": 71,
   "metadata": {
    "scrolled": true
   },
   "outputs": [
    {
     "data": {
      "image/png": "[encoded data removed]",
      "text/plain": [
       "<Figure size 576x720 with 1 Axes>"
      ]
     },
     "metadata": {
      "needs_background": "light"
     },
     "output_type": "display_data"
    }
   ],
   "source": [
    "plot_importance(coef, 'Lasso')"
   ]
  },
  {
   "cell_type": "markdown",
   "metadata": {},
   "source": [
    "## Ridge"
   ]
  },
  {
   "cell_type": "code",
   "execution_count": 72,
   "metadata": {},
   "outputs": [],
   "source": [
    "ridge = RidgeCV()"
   ]
  },
  {
   "cell_type": "code",
   "execution_count": 73,
   "metadata": {},
   "outputs": [
    {
     "data": {
      "text/plain": [
       "RidgeCV(alphas=array([ 0.1,  1. , 10. ]))"
      ]
     },
     "execution_count": 73,
     "metadata": {},
     "output_type": "execute_result"
    }
   ],
   "source": [
    "ridge.fit(X=X_train,y=y_train)"
   ]
  },
  {
   "cell_type": "code",
   "execution_count": 74,
   "metadata": {},
   "outputs": [
    {
     "name": "stdout",
     "output_type": "stream",
     "text": [
      "Best alpha using built-in RidgeCV: 10.000000\n"
     ]
    }
   ],
   "source": [
    "print(\"Best alpha using built-in RidgeCV: %f\" % ridge.alpha_)"
   ]
  },
  {
   "cell_type": "code",
   "execution_count": 75,
   "metadata": {},
   "outputs": [
    {
     "name": "stdout",
     "output_type": "stream",
     "text": [
      "Best score using built-in LassoCV: 0.342751\n"
     ]
    }
   ],
   "source": [
    "print(\"Best score using built-in LassoCV: %f\" %ridge.score(X_train,y_train))"
   ]
  },
  {
   "cell_type": "code",
   "execution_count": 76,
   "metadata": {},
   "outputs": [
    {
     "data": {
      "text/plain": [
       "Years of Education                   0.032512\n",
       "Working Hours per week               0.002975\n",
       "Gender                               0.066571\n",
       "Age                                  0.002803\n",
       "money_dif                            0.000006\n",
       "x0_Africa                            0.012974\n",
       "x0_America                          -0.006516\n",
       "x0_Asia                             -0.014757\n",
       "x0_Europe                            0.028006\n",
       "x0_Oceania                          -0.019708\n",
       "x1_Divorced                         -0.049478\n",
       "x1_Married                           0.043726\n",
       "x1_Married - Spouse Missing         -0.000924\n",
       "x1_Married - Spouse in the Army      0.109871\n",
       "x1_Separated                        -0.035040\n",
       "x1_Single                           -0.049302\n",
       "x1_Widow                            -0.018853\n",
       "x2_Alone                            -0.086662\n",
       "x2_Children                         -0.072050\n",
       "x2_Husband                           0.213279\n",
       "x2_Other Family                     -0.088747\n",
       "x2_Other relatives                  -0.057908\n",
       "x2_Wife                              0.092089\n",
       "x3_Private                           0.014005\n",
       "x3_Public                            0.020371\n",
       "x3_Self-Employed                    -0.001319\n",
       "x3_Unemployed                       -0.033057\n",
       "x4_Administratives                   0.002247\n",
       "x4_Agriculture and Fishing          -0.133527\n",
       "x4_Army                             -0.032104\n",
       "x4_Cleaners & Handlers              -0.063098\n",
       "x4_Household Services                0.012014\n",
       "x4_IT                                0.084233\n",
       "x4_Machine Operators & Inspectors   -0.062861\n",
       "x4_Management                        0.140824\n",
       "x4_Other services                   -0.032120\n",
       "x4_Professor                         0.092594\n",
       "x4_Repair & constructions           -0.033077\n",
       "x4_Sales                             0.035894\n",
       "x4_Security                          0.046034\n",
       "x4_Transports                       -0.057053\n",
       "dtype: float64"
      ]
     },
     "execution_count": 76,
     "metadata": {},
     "output_type": "execute_result"
    }
   ],
   "source": [
    "coef_ridge = pd.Series(ridge.coef_, index = X_train.columns)\n",
    "coef_ridge"
   ]
  },
  {
   "cell_type": "code",
   "execution_count": 77,
   "metadata": {
    "scrolled": false
   },
   "outputs": [
    {
     "data": {
      "image/png": "[encoded data removed]",
      "text/plain": [
       "<Figure size 576x720 with 1 Axes>"
      ]
     },
     "metadata": {
      "needs_background": "light"
     },
     "output_type": "display_data"
    }
   ],
   "source": [
    "plot_importance(coef_ridge, 'Ridge')"
   ]
  },
  {
   "cell_type": "code",
   "execution_count": 78,
   "metadata": {},
   "outputs": [],
   "source": [
    "mutual_information = mutual_info_classif(X_train, y_train)"
   ]
  },
  {
   "cell_type": "code",
   "execution_count": 79,
   "metadata": {
    "scrolled": true
   },
   "outputs": [
    {
     "data": {
      "text/plain": [
       "41"
      ]
     },
     "execution_count": 79,
     "metadata": {},
     "output_type": "execute_result"
    }
   ],
   "source": [
    "len(X_train.columns)"
   ]
  },
  {
   "cell_type": "code",
   "execution_count": 80,
   "metadata": {
    "scrolled": true
   },
   "outputs": [],
   "source": [
    "# import matplotlib.pyplot as plt\n",
    "# import seaborn as sns\n",
    "# plt.subplots(1, figsize=(60, 1))\n",
    "# sns.heatmap(mutual_information[:, np.newaxis].T, cmap='Blues', cbar=False, linewidths=1, annot=True)\n",
    "# plt.yticks([], [])\n",
    "# plt.gca().set_xticklabels(X_train.columns[1:], rotation=45, ha='right', fontsize=12)\n",
    "# plt.suptitle(\"Variable Importance (mutual_info_classif)\", fontsize=18, y=1.2)\n",
    "# plt.gcf().subplots_adjust(wspace=0.2)"
   ]
  },
  {
   "cell_type": "code",
   "execution_count": 81,
   "metadata": {},
   "outputs": [],
   "source": [
    "trans = GenericUnivariateSelect(score_func=mutual_info_classif, mode='percentile', param=50)"
   ]
  },
  {
   "cell_type": "code",
   "execution_count": 82,
   "metadata": {},
   "outputs": [],
   "source": [
    "kepler_X_trans = trans.fit_transform(X_train, y_train)\n"
   ]
  },
  {
   "cell_type": "markdown",
   "metadata": {},
   "source": [
    "## The choice"
   ]
  },
  {
   "cell_type": "code",
   "execution_count": 83,
   "metadata": {},
   "outputs": [],
   "source": [
    "X_train = X_train[['x1_Married','money_dif','Years of Education','Age','Working Hours per week','x4_Management',\n",
    "            'x4_Professor','x2_Husband','x4_Agriculture and Fishing','x4_Other services','Gender','x3_Public']]\n",
    "\n",
    "X_test  = X_test[['x1_Married','money_dif','Years of Education','Age','Working Hours per week','x4_Management',\n",
    "            'x4_Professor','x2_Husband','x4_Agriculture and Fishing','x4_Other services','Gender','x3_Public']]"
   ]
  },
  {
   "cell_type": "markdown",
   "metadata": {},
   "source": [
    "## Model"
   ]
  },
  {
   "cell_type": "code",
   "execution_count": 84,
   "metadata": {},
   "outputs": [
    {
     "data": {
      "text/html": [
       "<div>\n",
       "<style scoped>\n",
       "    .dataframe tbody tr th:only-of-type {\n",
       "        vertical-align: middle;\n",
       "    }\n",
       "\n",
       "    .dataframe tbody tr th {\n",
       "        vertical-align: top;\n",
       "    }\n",
       "\n",
       "    .dataframe thead th {\n",
       "        text-align: right;\n",
       "    }\n",
       "</style>\n",
       "<table border=\"1\" class=\"dataframe\">\n",
       "  <thead>\n",
       "    <tr style=\"text-align: right;\">\n",
       "      <th></th>\n",
       "      <th>Model</th>\n",
       "    </tr>\n",
       "    <tr>\n",
       "      <th>Score</th>\n",
       "      <th></th>\n",
       "    </tr>\n",
       "  </thead>\n",
       "  <tbody>\n",
       "    <tr>\n",
       "      <th>0.870089</th>\n",
       "      <td>GB</td>\n",
       "    </tr>\n",
       "    <tr>\n",
       "      <th>0.862723</th>\n",
       "      <td>AB</td>\n",
       "    </tr>\n",
       "    <tr>\n",
       "      <th>0.852009</th>\n",
       "      <td>RF</td>\n",
       "    </tr>\n",
       "    <tr>\n",
       "      <th>0.843973</th>\n",
       "      <td>KNN</td>\n",
       "    </tr>\n",
       "    <tr>\n",
       "      <th>0.827232</th>\n",
       "      <td>Dtree</td>\n",
       "    </tr>\n",
       "    <tr>\n",
       "      <th>0.814063</th>\n",
       "      <td>NN</td>\n",
       "    </tr>\n",
       "    <tr>\n",
       "      <th>0.803348</th>\n",
       "      <td>SVC</td>\n",
       "    </tr>\n",
       "  </tbody>\n",
       "</table>\n",
       "</div>"
      ],
      "text/plain": [
       "          Model\n",
       "Score          \n",
       "0.870089     GB\n",
       "0.862723     AB\n",
       "0.852009     RF\n",
       "0.843973    KNN\n",
       "0.827232  Dtree\n",
       "0.814063     NN\n",
       "0.803348    SVC"
      ]
     },
     "execution_count": 84,
     "metadata": {},
     "output_type": "execute_result"
    }
   ],
   "source": [
    "from sklearn.neighbors import KNeighborsClassifier\n",
    "from sklearn.tree import DecisionTreeClassifier\n",
    "\n",
    "from sklearn.neural_network import MLPClassifier\n",
    "from sklearn.ensemble import BaggingClassifier,RandomForestClassifier,AdaBoostClassifier,GradientBoostingClassifier\n",
    "\n",
    "from sklearn import svm\n",
    "\n",
    "NN = MLPClassifier(random_state = 5)\n",
    "NN.fit(X_train, y_train)\n",
    "NN_score = NN.score(X_test,y_test)\n",
    "\n",
    "KNN = KNeighborsClassifier()\n",
    "KNN.fit(X_train, y_train)\n",
    "KNN_score = KNN.score(X_test,y_test)\n",
    "\n",
    "RF = RandomForestClassifier(random_state = 5)\n",
    "RF.fit(X_train, y_train)\n",
    "RF_score = RF.score(X_test,y_test)\n",
    "\n",
    "Dtree = DecisionTreeClassifier(random_state = 5)\n",
    "Dtree.fit(X_train, y_train)\n",
    "Dtree_score = Dtree.score(X_test,y_test)\n",
    "\n",
    "AB=AdaBoostClassifier(random_state = 5)\n",
    "AB.fit(X_train, y_train)\n",
    "AB_score = AB.score(X_test,y_test)\n",
    "\n",
    "SVC = svm.SVC(random_state = 5)\n",
    "SVC.fit(X_train, y_train)\n",
    "SVC_score =SVC.score(X_test,y_test)\n",
    "\n",
    "GB= GradientBoostingClassifier(random_state = 5 )\n",
    "GB.fit(X_train, y_train)\n",
    "GB_score = GB.score(X_test,y_test)\n",
    "\n",
    "results = pd.DataFrame({\n",
    "    'Model': ['NN','KNN','RF','Dtree', 'AB','SVC','GB'],\n",
    "    'Score': [NN_score,KNN_score,RF_score,Dtree_score,AB_score,SVC_score,GB_score]})\n",
    "result_df = results.sort_values(by='Score', ascending=False)\n",
    "result_df = result_df.set_index('Score')\n",
    "result_df\n"
   ]
  },
  {
   "cell_type": "code",
   "execution_count": 85,
   "metadata": {},
   "outputs": [
    {
     "data": {
      "text/html": [
       "<div>\n",
       "<style scoped>\n",
       "    .dataframe tbody tr th:only-of-type {\n",
       "        vertical-align: middle;\n",
       "    }\n",
       "\n",
       "    .dataframe tbody tr th {\n",
       "        vertical-align: top;\n",
       "    }\n",
       "\n",
       "    .dataframe thead th {\n",
       "        text-align: right;\n",
       "    }\n",
       "</style>\n",
       "<table border=\"1\" class=\"dataframe\">\n",
       "  <thead>\n",
       "    <tr style=\"text-align: right;\">\n",
       "      <th></th>\n",
       "      <th>importance_GB</th>\n",
       "      <th>importance_AB</th>\n",
       "      <th>importance_RF</th>\n",
       "      <th>importance_Dtree</th>\n",
       "    </tr>\n",
       "    <tr>\n",
       "      <th>feature</th>\n",
       "      <th></th>\n",
       "      <th></th>\n",
       "      <th></th>\n",
       "      <th></th>\n",
       "    </tr>\n",
       "  </thead>\n",
       "  <tbody>\n",
       "    <tr>\n",
       "      <th>x1_Married</th>\n",
       "      <td>0.371</td>\n",
       "      <td>0.04</td>\n",
       "      <td>0.156</td>\n",
       "      <td>0.228</td>\n",
       "    </tr>\n",
       "    <tr>\n",
       "      <th>money_dif</th>\n",
       "      <td>0.279</td>\n",
       "      <td>0.38</td>\n",
       "      <td>0.184</td>\n",
       "      <td>0.198</td>\n",
       "    </tr>\n",
       "    <tr>\n",
       "      <th>Years of Education</th>\n",
       "      <td>0.195</td>\n",
       "      <td>0.16</td>\n",
       "      <td>0.141</td>\n",
       "      <td>0.162</td>\n",
       "    </tr>\n",
       "    <tr>\n",
       "      <th>Age</th>\n",
       "      <td>0.063</td>\n",
       "      <td>0.18</td>\n",
       "      <td>0.271</td>\n",
       "      <td>0.195</td>\n",
       "    </tr>\n",
       "    <tr>\n",
       "      <th>Working Hours per week</th>\n",
       "      <td>0.037</td>\n",
       "      <td>0.08</td>\n",
       "      <td>0.145</td>\n",
       "      <td>0.126</td>\n",
       "    </tr>\n",
       "    <tr>\n",
       "      <th>x4_Management</th>\n",
       "      <td>0.018</td>\n",
       "      <td>0.02</td>\n",
       "      <td>0.025</td>\n",
       "      <td>0.016</td>\n",
       "    </tr>\n",
       "    <tr>\n",
       "      <th>x4_Professor</th>\n",
       "      <td>0.012</td>\n",
       "      <td>0.02</td>\n",
       "      <td>0.019</td>\n",
       "      <td>0.019</td>\n",
       "    </tr>\n",
       "    <tr>\n",
       "      <th>x2_Husband</th>\n",
       "      <td>0.007</td>\n",
       "      <td>0.04</td>\n",
       "      <td>0.011</td>\n",
       "      <td>0.008</td>\n",
       "    </tr>\n",
       "    <tr>\n",
       "      <th>x4_Agriculture and Fishing</th>\n",
       "      <td>0.006</td>\n",
       "      <td>0.02</td>\n",
       "      <td>0.007</td>\n",
       "      <td>0.008</td>\n",
       "    </tr>\n",
       "    <tr>\n",
       "      <th>x4_Other services</th>\n",
       "      <td>0.006</td>\n",
       "      <td>0.02</td>\n",
       "      <td>0.009</td>\n",
       "      <td>0.009</td>\n",
       "    </tr>\n",
       "    <tr>\n",
       "      <th>Gender</th>\n",
       "      <td>0.004</td>\n",
       "      <td>0.04</td>\n",
       "      <td>0.020</td>\n",
       "      <td>0.013</td>\n",
       "    </tr>\n",
       "    <tr>\n",
       "      <th>x3_Public</th>\n",
       "      <td>0.001</td>\n",
       "      <td>0.00</td>\n",
       "      <td>0.014</td>\n",
       "      <td>0.019</td>\n",
       "    </tr>\n",
       "  </tbody>\n",
       "</table>\n",
       "</div>"
      ],
      "text/plain": [
       "                            importance_GB  importance_AB  importance_RF  \\\n",
       "feature                                                                   \n",
       "x1_Married                          0.371           0.04          0.156   \n",
       "money_dif                           0.279           0.38          0.184   \n",
       "Years of Education                  0.195           0.16          0.141   \n",
       "Age                                 0.063           0.18          0.271   \n",
       "Working Hours per week              0.037           0.08          0.145   \n",
       "x4_Management                       0.018           0.02          0.025   \n",
       "x4_Professor                        0.012           0.02          0.019   \n",
       "x2_Husband                          0.007           0.04          0.011   \n",
       "x4_Agriculture and Fishing          0.006           0.02          0.007   \n",
       "x4_Other services                   0.006           0.02          0.009   \n",
       "Gender                              0.004           0.04          0.020   \n",
       "x3_Public                           0.001           0.00          0.014   \n",
       "\n",
       "                            importance_Dtree  \n",
       "feature                                       \n",
       "x1_Married                             0.228  \n",
       "money_dif                              0.198  \n",
       "Years of Education                     0.162  \n",
       "Age                                    0.195  \n",
       "Working Hours per week                 0.126  \n",
       "x4_Management                          0.016  \n",
       "x4_Professor                           0.019  \n",
       "x2_Husband                             0.008  \n",
       "x4_Agriculture and Fishing             0.008  \n",
       "x4_Other services                      0.009  \n",
       "Gender                                 0.013  \n",
       "x3_Public                              0.019  "
      ]
     },
     "execution_count": 85,
     "metadata": {},
     "output_type": "execute_result"
    }
   ],
   "source": [
    "importances = pd.DataFrame({'feature':X_train.columns,\n",
    "                            'importance_GB':np.round(GB.feature_importances_,3),\n",
    "                            #'importance_NN':np.round(NN.feature_importances_,3),\n",
    "                            'importance_AB':np.round(AB.feature_importances_,3),\n",
    "                            #'importance_SVC':np.round(SVC.feature_importances_,3),\n",
    "                            'importance_RF':np.round(RF.feature_importances_,3),\n",
    "                            #'importance_KNN':np.round(KNN.feature_importances_,3),\n",
    "                            'importance_Dtree':np.round(Dtree.feature_importances_,3)})\n",
    "importances = importances.sort_values('importance_GB',ascending=False).set_index('feature')\n",
    "importances"
   ]
  },
  {
   "cell_type": "code",
   "execution_count": 86,
   "metadata": {},
   "outputs": [],
   "source": [
    " from sklearn.ensemble import RandomForestClassifier\n",
    "rf_classifier = RandomForestClassifier(\n",
    "                      min_samples_leaf=20,\n",
    "                      n_estimators=150,\n",
    "                      bootstrap=True,\n",
    "                      oob_score=True,\n",
    "                      n_jobs=-1,\n",
    "                      random_state=123,\n",
    "                      max_features='auto')"
   ]
  },
  {
   "cell_type": "code",
   "execution_count": 87,
   "metadata": {},
   "outputs": [],
   "source": [
    "from sklearn.ensemble import GradientBoostingClassifier\n",
    "GB= GradientBoostingClassifier(random_state = 123,learning_rate=0.25,n_estimators=99) \n",
    "\n",
    "# metodos de arvore nao requerem normalizacao e GB é um desses por isso nao normalizamos os dados"
   ]
  },
  {
   "cell_type": "code",
   "execution_count": 88,
   "metadata": {},
   "outputs": [
    {
     "data": {
      "text/plain": [
       "GradientBoostingClassifier(learning_rate=0.25, n_estimators=99,\n",
       "                           random_state=123)"
      ]
     },
     "execution_count": 88,
     "metadata": {},
     "output_type": "execute_result"
    }
   ],
   "source": [
    "\n",
    "GB.fit(X_train, y_train)"
   ]
  },
  {
   "cell_type": "code",
   "execution_count": 89,
   "metadata": {
    "scrolled": true
   },
   "outputs": [],
   "source": [
    "y_pred = GB.predict(X_test)"
   ]
  },
  {
   "cell_type": "code",
   "execution_count": 90,
   "metadata": {},
   "outputs": [],
   "source": [
    "\n",
    "from sklearn.metrics import accuracy_score, confusion_matrix, precision_score, recall_score, roc_auc_score, roc_curve, f1_score\n"
   ]
  },
  {
   "cell_type": "code",
   "execution_count": 91,
   "metadata": {
    "scrolled": false
   },
   "outputs": [
    {
     "name": "stdout",
     "output_type": "stream",
     "text": [
      "The accuracy of the model is 87.63 %\n"
     ]
    }
   ],
   "source": [
    "accuracy_score(y_test, y_pred)\n",
    "print(f\"The accuracy of the model is {round(accuracy_score(y_test,y_pred),4)*100} %\")"
   ]
  },
  {
   "cell_type": "code",
   "execution_count": 92,
   "metadata": {},
   "outputs": [
    {
     "data": {
      "text/html": [
       "<div>\n",
       "<style scoped>\n",
       "    .dataframe tbody tr th:only-of-type {\n",
       "        vertical-align: middle;\n",
       "    }\n",
       "\n",
       "    .dataframe tbody tr th {\n",
       "        vertical-align: top;\n",
       "    }\n",
       "\n",
       "    .dataframe thead th {\n",
       "        text-align: right;\n",
       "    }\n",
       "</style>\n",
       "<table border=\"1\" class=\"dataframe\">\n",
       "  <thead>\n",
       "    <tr style=\"text-align: right;\">\n",
       "      <th></th>\n",
       "      <th>importance_GB</th>\n",
       "    </tr>\n",
       "    <tr>\n",
       "      <th>feature</th>\n",
       "      <th></th>\n",
       "    </tr>\n",
       "  </thead>\n",
       "  <tbody>\n",
       "    <tr>\n",
       "      <th>x1_Married</th>\n",
       "      <td>0.366</td>\n",
       "    </tr>\n",
       "    <tr>\n",
       "      <th>money_dif</th>\n",
       "      <td>0.282</td>\n",
       "    </tr>\n",
       "    <tr>\n",
       "      <th>Years of Education</th>\n",
       "      <td>0.186</td>\n",
       "    </tr>\n",
       "    <tr>\n",
       "      <th>Age</th>\n",
       "      <td>0.070</td>\n",
       "    </tr>\n",
       "    <tr>\n",
       "      <th>Working Hours per week</th>\n",
       "      <td>0.041</td>\n",
       "    </tr>\n",
       "    <tr>\n",
       "      <th>x4_Management</th>\n",
       "      <td>0.018</td>\n",
       "    </tr>\n",
       "    <tr>\n",
       "      <th>x4_Professor</th>\n",
       "      <td>0.014</td>\n",
       "    </tr>\n",
       "    <tr>\n",
       "      <th>x2_Husband</th>\n",
       "      <td>0.006</td>\n",
       "    </tr>\n",
       "    <tr>\n",
       "      <th>x4_Agriculture and Fishing</th>\n",
       "      <td>0.006</td>\n",
       "    </tr>\n",
       "    <tr>\n",
       "      <th>x4_Other services</th>\n",
       "      <td>0.005</td>\n",
       "    </tr>\n",
       "    <tr>\n",
       "      <th>Gender</th>\n",
       "      <td>0.003</td>\n",
       "    </tr>\n",
       "    <tr>\n",
       "      <th>x3_Public</th>\n",
       "      <td>0.001</td>\n",
       "    </tr>\n",
       "  </tbody>\n",
       "</table>\n",
       "</div>"
      ],
      "text/plain": [
       "                            importance_GB\n",
       "feature                                  \n",
       "x1_Married                          0.366\n",
       "money_dif                           0.282\n",
       "Years of Education                  0.186\n",
       "Age                                 0.070\n",
       "Working Hours per week              0.041\n",
       "x4_Management                       0.018\n",
       "x4_Professor                        0.014\n",
       "x2_Husband                          0.006\n",
       "x4_Agriculture and Fishing          0.006\n",
       "x4_Other services                   0.005\n",
       "Gender                              0.003\n",
       "x3_Public                           0.001"
      ]
     },
     "execution_count": 92,
     "metadata": {},
     "output_type": "execute_result"
    }
   ],
   "source": [
    "importances = pd.DataFrame({'feature':X_train.columns,\n",
    "                            'importance_GB':np.round(GB.feature_importances_,3)})\n",
    "importances.sort_values('importance_GB',ascending=False).set_index('feature')"
   ]
  },
  {
   "cell_type": "code",
   "execution_count": null,
   "metadata": {},
   "outputs": [],
   "source": []
  },
  {
   "cell_type": "code",
   "execution_count": 93,
   "metadata": {},
   "outputs": [],
   "source": [
    "# resultsDf = pd.DataFrame(y_pred, columns = ['Income'], index = X_test.index)\n",
    "# resultsDf.to_csv('results.csv')"
   ]
  },
  {
   "cell_type": "code",
   "execution_count": 94,
   "metadata": {},
   "outputs": [],
   "source": [
    "# resultsDf"
   ]
  },
  {
   "cell_type": "code",
   "execution_count": 95,
   "metadata": {
    "scrolled": false
   },
   "outputs": [
    {
     "data": {
      "image/png": "[encoded data removed]",
      "text/plain": [
       "<Figure size 720x720 with 2 Axes>"
      ]
     },
     "metadata": {
      "needs_background": "light"
     },
     "output_type": "display_data"
    }
   ],
   "source": [
    "import itertools\n",
    "import matplotlib.pyplot as plt\n",
    "import numpy as np\n",
    "\n",
    "def plot_confusion_matrix(cm, classes, normalize = False,\n",
    "                          title='Confusion matrix',\n",
    "                          cmap=plt.cm.Greens):  \n",
    "    plt.figure(figsize = (10, 10))\n",
    "    plt.imshow(cm, interpolation='nearest', cmap=cmap)\n",
    "    plt.title(title, size = 24)\n",
    "    plt.colorbar(aspect=4)\n",
    "    tick_marks = np.arange(len(classes))\n",
    "    plt.xticks(tick_marks, classes, rotation=45, size = 14)\n",
    "    plt.yticks(tick_marks, classes, size = 14)\n",
    "    fmt = '.2f' if normalize else 'd'\n",
    "    thresh = cm.max() / 2.\n",
    "    # Label the plot\n",
    "    for i, j in itertools.product(range(cm.shape[0]),   range(cm.shape[1])):\n",
    "        plt.text(j, i, format(cm[i, j], fmt), \n",
    "             fontsize = 20,\n",
    "             horizontalalignment=\"center\",\n",
    "             color=\"white\" if cm[i, j] > thresh else \"black\")\n",
    "    plt.grid(None)\n",
    "    plt.tight_layout()\n",
    "    plt.ylabel('True label', size = 18)\n",
    "    plt.xlabel('Predicted label', size = 18)\n",
    "\n",
    "# Let's plot it out\n",
    "cm = confusion_matrix(y_test, y_pred)\n",
    "plot_confusion_matrix(cm, classes = ['0 - Below avg', '1 - Above avg'],\n",
    "                      title =  'Confusion Matrix')"
   ]
  },
  {
   "cell_type": "code",
   "execution_count": 96,
   "metadata": {},
   "outputs": [],
   "source": [
    "from sklearn.metrics import classification_report\n",
    "def metrics(y_train, pred_train , y_val, pred_val):\n",
    "    print('___________________________________________________________________________________________________________')\n",
    "    print('                                                     TRAIN                                                 ')\n",
    "    print('-----------------------------------------------------------------------------------------------------------')\n",
    "    print(classification_report(y_train, pred_train))\n",
    "    print(confusion_matrix(y_train, pred_train))\n",
    "\n",
    "\n",
    "    print('___________________________________________________________________________________________________________')\n",
    "    print('                                                VALIDATION                                                 ')\n",
    "    print('-----------------------------------------------------------------------------------------------------------')\n",
    "    print(classification_report(y_val, pred_val))\n",
    "    print(confusion_matrix(y_val, pred_val))"
   ]
  },
  {
   "cell_type": "code",
   "execution_count": 97,
   "metadata": {},
   "outputs": [],
   "source": [
    "labels_train = GB.predict(X_train)\n",
    "labels_val = GB.predict(X_test)"
   ]
  },
  {
   "cell_type": "code",
   "execution_count": 98,
   "metadata": {},
   "outputs": [
    {
     "name": "stdout",
     "output_type": "stream",
     "text": [
      "___________________________________________________________________________________________________________\n",
      "                                                     TRAIN                                                 \n",
      "-----------------------------------------------------------------------------------------------------------\n",
      "              precision    recall  f1-score   support\n",
      "\n",
      "           0       0.89      0.95      0.92     13671\n",
      "           1       0.80      0.63      0.70      4249\n",
      "\n",
      "    accuracy                           0.87     17920\n",
      "   macro avg       0.84      0.79      0.81     17920\n",
      "weighted avg       0.87      0.87      0.87     17920\n",
      "\n",
      "[[12994   677]\n",
      " [ 1577  2672]]\n",
      "___________________________________________________________________________________________________________\n",
      "                                                VALIDATION                                                 \n",
      "-----------------------------------------------------------------------------------------------------------\n",
      "              precision    recall  f1-score   support\n",
      "\n",
      "           0       0.89      0.95      0.92      3418\n",
      "           1       0.81      0.63      0.71      1062\n",
      "\n",
      "    accuracy                           0.88      4480\n",
      "   macro avg       0.85      0.79      0.81      4480\n",
      "weighted avg       0.87      0.88      0.87      4480\n",
      "\n",
      "[[3257  161]\n",
      " [ 393  669]]\n"
     ]
    }
   ],
   "source": [
    "metrics(y_train = y_train, pred_train = labels_train, y_val = y_test, pred_val = labels_val)"
   ]
  }
 ],
 "metadata": {
  "kernelspec": {
   "display_name": "Python 3",
   "language": "python",
   "name": "python3"
  },
  "language_info": {
   "codemirror_mode": {
    "name": "ipython",
    "version": 3
   },
   "file_extension": ".py",
   "mimetype": "text/x-python",
   "name": "python",
   "nbconvert_exporter": "python",
   "pygments_lexer": "ipython3",
   "version": "3.8.3"
  }
 },
 "nbformat": 4,
 "nbformat_minor": 4
}
